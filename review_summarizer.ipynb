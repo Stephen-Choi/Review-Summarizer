{
 "cells": [
  {
   "cell_type": "code",
   "execution_count": 2,
   "metadata": {},
   "outputs": [],
   "source": [
    "import pandas as pd\n",
    "import numpy as np\n",
    "import matplotlib.pyplot as plt\n",
    "import re\n",
    "from nltk.corpus import stopwords\n",
    "from pickle import dump, load"
   ]
  },
  {
   "cell_type": "code",
   "execution_count": 2,
   "metadata": {},
   "outputs": [],
   "source": [
    "reviews = pd.read_csv(\"Reviews.csv\")"
   ]
  },
  {
   "cell_type": "code",
   "execution_count": 3,
   "metadata": {},
   "outputs": [
    {
     "data": {
      "text/plain": [
       "(568454, 10)"
      ]
     },
     "execution_count": 3,
     "metadata": {},
     "output_type": "execute_result"
    }
   ],
   "source": [
    "reviews.shape"
   ]
  },
  {
   "cell_type": "code",
   "execution_count": 5,
   "metadata": {},
   "outputs": [
    {
     "data": {
      "text/html": [
       "<div>\n",
       "<style scoped>\n",
       "    .dataframe tbody tr th:only-of-type {\n",
       "        vertical-align: middle;\n",
       "    }\n",
       "\n",
       "    .dataframe tbody tr th {\n",
       "        vertical-align: top;\n",
       "    }\n",
       "\n",
       "    .dataframe thead th {\n",
       "        text-align: right;\n",
       "    }\n",
       "</style>\n",
       "<table border=\"1\" class=\"dataframe\">\n",
       "  <thead>\n",
       "    <tr style=\"text-align: right;\">\n",
       "      <th></th>\n",
       "      <th>Id</th>\n",
       "      <th>ProductId</th>\n",
       "      <th>UserId</th>\n",
       "      <th>ProfileName</th>\n",
       "      <th>HelpfulnessNumerator</th>\n",
       "      <th>HelpfulnessDenominator</th>\n",
       "      <th>Score</th>\n",
       "      <th>Time</th>\n",
       "      <th>Summary</th>\n",
       "      <th>Text</th>\n",
       "    </tr>\n",
       "  </thead>\n",
       "  <tbody>\n",
       "    <tr>\n",
       "      <th>0</th>\n",
       "      <td>1</td>\n",
       "      <td>B001E4KFG0</td>\n",
       "      <td>A3SGXH7AUHU8GW</td>\n",
       "      <td>delmartian</td>\n",
       "      <td>1</td>\n",
       "      <td>1</td>\n",
       "      <td>5</td>\n",
       "      <td>1303862400</td>\n",
       "      <td>Good Quality Dog Food</td>\n",
       "      <td>I have bought several of the Vitality canned d...</td>\n",
       "    </tr>\n",
       "  </tbody>\n",
       "</table>\n",
       "</div>"
      ],
      "text/plain": [
       "   Id   ProductId          UserId ProfileName  HelpfulnessNumerator  \\\n",
       "0   1  B001E4KFG0  A3SGXH7AUHU8GW  delmartian                     1   \n",
       "\n",
       "   HelpfulnessDenominator  Score        Time                Summary  \\\n",
       "0                       1      5  1303862400  Good Quality Dog Food   \n",
       "\n",
       "                                                Text  \n",
       "0  I have bought several of the Vitality canned d...  "
      ]
     },
     "execution_count": 5,
     "metadata": {},
     "output_type": "execute_result"
    }
   ],
   "source": [
    "reviews.head(1)"
   ]
  },
  {
   "cell_type": "code",
   "execution_count": 7,
   "metadata": {
    "scrolled": true
   },
   "outputs": [
    {
     "data": {
      "text/plain": [
       "A3OXHLG6DIBRW8    448\n",
       "A1YUL9PCJR3JTY    421\n",
       "AY12DBB0U420B     389\n",
       "A281NPSIMI1C2R    365\n",
       "A1Z54EM24Y40LL    256\n",
       "A1TMAVN4CEM8U8    204\n",
       "A2MUGFV2TDQ47K    201\n",
       "A3TVZM3ZIXG8YW    199\n",
       "A3PJZ8TU8FDQ1K    178\n",
       "AQQLWCMRNDFGI     176\n",
       "A2SZLNSI5KOQJT    175\n",
       "A29JUMRL1US6YP    172\n",
       "AZV26LP92E6WU     167\n",
       "AY1EF0GOH80EK     162\n",
       "A31N6KB160O508    162\n",
       "A2FRFAQCWZJT3Q    161\n",
       "A1UQBFCERIP7VJ    157\n",
       "AKMEY1BSHSDG7     155\n",
       "A1LZJZIHUPLDV4    154\n",
       "A1WX42M589VAMQ    151\n",
       "A3D6OI36USYOU1    150\n",
       "A2Y8IDC1FKGNJC    150\n",
       "A3HPCRD9RX351S    149\n",
       "A2PNOU7NXB1JE4    143\n",
       "AKZKG2Z7CNV27     143\n",
       "A33AQPJYH7UUXR    142\n",
       "A35R32TA60XD57    141\n",
       "A1IU7S4HCK1XK0    140\n",
       "A1X1CEGHTHMBL1    135\n",
       "A36WGHR8TO5DKT    134\n",
       "                 ... \n",
       "A3OYGQFYTLXDEI      1\n",
       "A1FHH2PQNN65UA      1\n",
       "ARYX2NRJ45MJE       1\n",
       "A2DAAQI25T42JS      1\n",
       "A2DDDKF5NZMTFY      1\n",
       "A2OTS926107OSB      1\n",
       "A35VZGIUVQVLX9      1\n",
       "A3P7JE6K4D7KK0      1\n",
       "A3MWZPIQ0LAST2      1\n",
       "A1JT9S5P9NKA29      1\n",
       "A1OS5209JKYNHO      1\n",
       "A2TG6PN9JDALGE      1\n",
       "A1CKP0D0XGGVCH      1\n",
       "A28K6G5NGB1PIC      1\n",
       "A3MIHY1FCJC31A      1\n",
       "A2N27S7VXDJW2N      1\n",
       "A3M68Y4YA53MLH      1\n",
       "A1SNB8S6ORSQ71      1\n",
       "A1UVXI59VF2B07      1\n",
       "A1B9C27GI4BADC      1\n",
       "A1BL6UUS8EJ4W0      1\n",
       "A3LLETMZZN2T1Q      1\n",
       "A2E9JWI9LRMGJT      1\n",
       "A3AXS2PEBRP2RM      1\n",
       "AV0I7C96Q9K68       1\n",
       "A32SIZL5NVDXJM      1\n",
       "A1FLS6YGA7VP25      1\n",
       "A70LXK8RA7RKA       1\n",
       "A3MI2ZB09ZNIG4      1\n",
       "A1Z1HUDCIFVV2L      1\n",
       "Name: UserId, Length: 256059, dtype: int64"
      ]
     },
     "execution_count": 7,
     "metadata": {},
     "output_type": "execute_result"
    }
   ],
   "source": [
    "reviews['UserId'].value_counts()"
   ]
  },
  {
   "cell_type": "code",
   "execution_count": 9,
   "metadata": {
    "scrolled": true
   },
   "outputs": [
    {
     "data": {
      "text/html": [
       "<div>\n",
       "<style scoped>\n",
       "    .dataframe tbody tr th:only-of-type {\n",
       "        vertical-align: middle;\n",
       "    }\n",
       "\n",
       "    .dataframe tbody tr th {\n",
       "        vertical-align: top;\n",
       "    }\n",
       "\n",
       "    .dataframe thead th {\n",
       "        text-align: right;\n",
       "    }\n",
       "</style>\n",
       "<table border=\"1\" class=\"dataframe\">\n",
       "  <thead>\n",
       "    <tr style=\"text-align: right;\">\n",
       "      <th></th>\n",
       "      <th>Id</th>\n",
       "      <th>ProductId</th>\n",
       "      <th>UserId</th>\n",
       "      <th>ProfileName</th>\n",
       "      <th>HelpfulnessNumerator</th>\n",
       "      <th>HelpfulnessDenominator</th>\n",
       "      <th>Score</th>\n",
       "      <th>Time</th>\n",
       "      <th>Summary</th>\n",
       "      <th>Text</th>\n",
       "    </tr>\n",
       "  </thead>\n",
       "  <tbody>\n",
       "    <tr>\n",
       "      <th>369</th>\n",
       "      <td>370</td>\n",
       "      <td>B002O3VHXU</td>\n",
       "      <td>A3OXHLG6DIBRW8</td>\n",
       "      <td>C. F. Hill \"CFH\"</td>\n",
       "      <td>1</td>\n",
       "      <td>1</td>\n",
       "      <td>5</td>\n",
       "      <td>1282176000</td>\n",
       "      <td>Very Smooth Coffee - Highly Recommended</td>\n",
       "      <td>Green Mountain \"Nantucket Blend\" K-Cups make a...</td>\n",
       "    </tr>\n",
       "    <tr>\n",
       "      <th>813</th>\n",
       "      <td>814</td>\n",
       "      <td>B004ET7MG8</td>\n",
       "      <td>A3OXHLG6DIBRW8</td>\n",
       "      <td>C. F. Hill \"CFH\"</td>\n",
       "      <td>3</td>\n",
       "      <td>4</td>\n",
       "      <td>2</td>\n",
       "      <td>1272240000</td>\n",
       "      <td>Odd Fake Flavor - Not Recommended</td>\n",
       "      <td>Trident \"Strawberry Twist\" sugarless gum is ve...</td>\n",
       "    </tr>\n",
       "    <tr>\n",
       "      <th>3306</th>\n",
       "      <td>3307</td>\n",
       "      <td>B005K4Q1VI</td>\n",
       "      <td>A3OXHLG6DIBRW8</td>\n",
       "      <td>C. F. Hill \"CFH\"</td>\n",
       "      <td>24</td>\n",
       "      <td>25</td>\n",
       "      <td>5</td>\n",
       "      <td>1321401600</td>\n",
       "      <td>Really Good Hot Cocoa - Highly Recommended</td>\n",
       "      <td>These Grove Square Hot Cocoa flavors are by fa...</td>\n",
       "    </tr>\n",
       "    <tr>\n",
       "      <th>3416</th>\n",
       "      <td>3417</td>\n",
       "      <td>B005K4Q1VI</td>\n",
       "      <td>A3OXHLG6DIBRW8</td>\n",
       "      <td>C. F. Hill \"CFH\"</td>\n",
       "      <td>5</td>\n",
       "      <td>5</td>\n",
       "      <td>5</td>\n",
       "      <td>1321401600</td>\n",
       "      <td>Really Good Hot Cocoa - Highly Recommended</td>\n",
       "      <td>These Grove Square Hot Cocoa flavors are by fa...</td>\n",
       "    </tr>\n",
       "    <tr>\n",
       "      <th>3926</th>\n",
       "      <td>3927</td>\n",
       "      <td>B000VSDFRG</td>\n",
       "      <td>A3OXHLG6DIBRW8</td>\n",
       "      <td>C. F. Hill \"CFH\"</td>\n",
       "      <td>2</td>\n",
       "      <td>2</td>\n",
       "      <td>5</td>\n",
       "      <td>1237161600</td>\n",
       "      <td>Great Diabetic Friendly Candy - Highly Recomme...</td>\n",
       "      <td>Hershey \"Sugar Free Caramel Filled Chocolates\"...</td>\n",
       "    </tr>\n",
       "    <tr>\n",
       "      <th>6160</th>\n",
       "      <td>6161</td>\n",
       "      <td>B007J6GGII</td>\n",
       "      <td>A3OXHLG6DIBRW8</td>\n",
       "      <td>C. F. Hill \"CFH\"</td>\n",
       "      <td>0</td>\n",
       "      <td>0</td>\n",
       "      <td>4</td>\n",
       "      <td>1332633600</td>\n",
       "      <td>True Bacon Flavor</td>\n",
       "      <td>These David's Signature Beyond Gourmet \"Bacon\"...</td>\n",
       "    </tr>\n",
       "    <tr>\n",
       "      <th>7773</th>\n",
       "      <td>7774</td>\n",
       "      <td>B007J6KEPY</td>\n",
       "      <td>A3OXHLG6DIBRW8</td>\n",
       "      <td>C. F. Hill \"CFH\"</td>\n",
       "      <td>0</td>\n",
       "      <td>0</td>\n",
       "      <td>5</td>\n",
       "      <td>1332633600</td>\n",
       "      <td>Outstanding Flavor - Highly Recommended</td>\n",
       "      <td>These David's Signature Beyond Gourmet \"Pomegr...</td>\n",
       "    </tr>\n",
       "    <tr>\n",
       "      <th>10715</th>\n",
       "      <td>10716</td>\n",
       "      <td>B00389Q4XW</td>\n",
       "      <td>A3OXHLG6DIBRW8</td>\n",
       "      <td>C. F. Hill \"CFH\"</td>\n",
       "      <td>0</td>\n",
       "      <td>0</td>\n",
       "      <td>4</td>\n",
       "      <td>1283126400</td>\n",
       "      <td>Good Hot Cocoa - Recommended</td>\n",
       "      <td>The Green Mountain Hot Cocoa is a good choice ...</td>\n",
       "    </tr>\n",
       "    <tr>\n",
       "      <th>15318</th>\n",
       "      <td>15319</td>\n",
       "      <td>B00503DP0O</td>\n",
       "      <td>A3OXHLG6DIBRW8</td>\n",
       "      <td>C. F. Hill \"CFH\"</td>\n",
       "      <td>0</td>\n",
       "      <td>0</td>\n",
       "      <td>4</td>\n",
       "      <td>1311897600</td>\n",
       "      <td>Very Good Tasting Snack Bars - Recommended</td>\n",
       "      <td>We have several relatives with dietary restric...</td>\n",
       "    </tr>\n",
       "    <tr>\n",
       "      <th>15792</th>\n",
       "      <td>15793</td>\n",
       "      <td>B007TJGZ5E</td>\n",
       "      <td>A3OXHLG6DIBRW8</td>\n",
       "      <td>C. F. Hill \"CFH\"</td>\n",
       "      <td>0</td>\n",
       "      <td>0</td>\n",
       "      <td>5</td>\n",
       "      <td>1282176000</td>\n",
       "      <td>Very Smooth Coffee - Highly Recommended</td>\n",
       "      <td>Green Mountain \"Nantucket Blend\" K-Cups make a...</td>\n",
       "    </tr>\n",
       "    <tr>\n",
       "      <th>15819</th>\n",
       "      <td>15820</td>\n",
       "      <td>B007TJGZ5E</td>\n",
       "      <td>A3OXHLG6DIBRW8</td>\n",
       "      <td>C. F. Hill \"CFH\"</td>\n",
       "      <td>3</td>\n",
       "      <td>3</td>\n",
       "      <td>5</td>\n",
       "      <td>1282176000</td>\n",
       "      <td>Very Smooth Coffee - Highly Recommended</td>\n",
       "      <td>Green Mountain \"Nantucket Blend\" K-Cups make a...</td>\n",
       "    </tr>\n",
       "    <tr>\n",
       "      <th>17732</th>\n",
       "      <td>17733</td>\n",
       "      <td>B000Z978SS</td>\n",
       "      <td>A3OXHLG6DIBRW8</td>\n",
       "      <td>C. F. Hill \"CFH\"</td>\n",
       "      <td>17</td>\n",
       "      <td>18</td>\n",
       "      <td>4</td>\n",
       "      <td>1224201600</td>\n",
       "      <td>Really Good Sugar Substitute - Highly Recommen...</td>\n",
       "      <td>\"Erythritol\" has become our sugar substitute o...</td>\n",
       "    </tr>\n",
       "    <tr>\n",
       "      <th>18508</th>\n",
       "      <td>18509</td>\n",
       "      <td>B001FA1DYG</td>\n",
       "      <td>A3OXHLG6DIBRW8</td>\n",
       "      <td>C. F. Hill \"CFH\"</td>\n",
       "      <td>0</td>\n",
       "      <td>0</td>\n",
       "      <td>5</td>\n",
       "      <td>1285891200</td>\n",
       "      <td>Great For College Students - Highly Recommended</td>\n",
       "      <td>These \"Kit Kat Assorted Miniatures\" and the &lt;a...</td>\n",
       "    </tr>\n",
       "    <tr>\n",
       "      <th>18764</th>\n",
       "      <td>18765</td>\n",
       "      <td>B001534R00</td>\n",
       "      <td>A3OXHLG6DIBRW8</td>\n",
       "      <td>C. F. Hill \"CFH\"</td>\n",
       "      <td>1</td>\n",
       "      <td>1</td>\n",
       "      <td>4</td>\n",
       "      <td>1275868800</td>\n",
       "      <td>Effective Energy Drink - Recommended</td>\n",
       "      <td>Celsius Calorie Burner Orange is every bit (or...</td>\n",
       "    </tr>\n",
       "    <tr>\n",
       "      <th>19349</th>\n",
       "      <td>19350</td>\n",
       "      <td>B007J6J8J2</td>\n",
       "      <td>A3OXHLG6DIBRW8</td>\n",
       "      <td>C. F. Hill \"CFH\"</td>\n",
       "      <td>0</td>\n",
       "      <td>0</td>\n",
       "      <td>5</td>\n",
       "      <td>1332979200</td>\n",
       "      <td>Very Good Jelly Beans - Highly Recommended</td>\n",
       "      <td>These David's Signature Beyond Gourmet \"Green ...</td>\n",
       "    </tr>\n",
       "    <tr>\n",
       "      <th>20662</th>\n",
       "      <td>20663</td>\n",
       "      <td>B000MP84MO</td>\n",
       "      <td>A3OXHLG6DIBRW8</td>\n",
       "      <td>C. F. Hill \"CFH\"</td>\n",
       "      <td>2</td>\n",
       "      <td>2</td>\n",
       "      <td>5</td>\n",
       "      <td>1283644800</td>\n",
       "      <td>Excellent Bold Kona Coffee - Highly Recommended</td>\n",
       "      <td>Tully's Coffee \"Kona Blend (Extra Bold)\" K-Cup...</td>\n",
       "    </tr>\n",
       "    <tr>\n",
       "      <th>23629</th>\n",
       "      <td>23630</td>\n",
       "      <td>B000E1FXLG</td>\n",
       "      <td>A3OXHLG6DIBRW8</td>\n",
       "      <td>C. F. Hill \"CFH\"</td>\n",
       "      <td>2</td>\n",
       "      <td>2</td>\n",
       "      <td>5</td>\n",
       "      <td>1236384000</td>\n",
       "      <td>Great Sugar-Free Pudding! Highly Recommended!</td>\n",
       "      <td>Jell-O \"Sugar-Free Instant Pudding\" is a great...</td>\n",
       "    </tr>\n",
       "    <tr>\n",
       "      <th>24946</th>\n",
       "      <td>24947</td>\n",
       "      <td>B0078Y6OX8</td>\n",
       "      <td>A3OXHLG6DIBRW8</td>\n",
       "      <td>C. F. Hill \"CFH\"</td>\n",
       "      <td>0</td>\n",
       "      <td>0</td>\n",
       "      <td>3</td>\n",
       "      <td>1283212800</td>\n",
       "      <td>Drinkable Flavored Coffee</td>\n",
       "      <td>A sample of these Van Houtte \"French Vanilla K...</td>\n",
       "    </tr>\n",
       "    <tr>\n",
       "      <th>27448</th>\n",
       "      <td>27449</td>\n",
       "      <td>B003EHCIMO</td>\n",
       "      <td>A3OXHLG6DIBRW8</td>\n",
       "      <td>C. F. Hill \"CFH\"</td>\n",
       "      <td>0</td>\n",
       "      <td>0</td>\n",
       "      <td>4</td>\n",
       "      <td>1339459200</td>\n",
       "      <td>Good Tasting Coffee, With A Kick - Recommended!</td>\n",
       "      <td>This Green Mountain \"Revv\" makes a good tastin...</td>\n",
       "    </tr>\n",
       "    <tr>\n",
       "      <th>29884</th>\n",
       "      <td>29885</td>\n",
       "      <td>B005VOOQLO</td>\n",
       "      <td>A3OXHLG6DIBRW8</td>\n",
       "      <td>C. F. Hill \"CFH\"</td>\n",
       "      <td>0</td>\n",
       "      <td>0</td>\n",
       "      <td>4</td>\n",
       "      <td>1332374400</td>\n",
       "      <td>Good Engery Shots - Recommended</td>\n",
       "      <td>This Mio \"Green Thunder\" does remind me of Mou...</td>\n",
       "    </tr>\n",
       "    <tr>\n",
       "      <th>30363</th>\n",
       "      <td>30364</td>\n",
       "      <td>B005DDCKJ8</td>\n",
       "      <td>A3OXHLG6DIBRW8</td>\n",
       "      <td>C. F. Hill \"CFH\"</td>\n",
       "      <td>0</td>\n",
       "      <td>0</td>\n",
       "      <td>4</td>\n",
       "      <td>1285545600</td>\n",
       "      <td>Good Tasting, Diabetic Friendly - Recommended</td>\n",
       "      <td>These thinkThin \"Brownie Crunch Bars\" are very...</td>\n",
       "    </tr>\n",
       "    <tr>\n",
       "      <th>34074</th>\n",
       "      <td>34075</td>\n",
       "      <td>B000LKVDUU</td>\n",
       "      <td>A3OXHLG6DIBRW8</td>\n",
       "      <td>C. F. Hill \"CFH\"</td>\n",
       "      <td>0</td>\n",
       "      <td>0</td>\n",
       "      <td>5</td>\n",
       "      <td>1280966400</td>\n",
       "      <td>Very Good Ready To Eat Meal - Highly Recommended</td>\n",
       "      <td>\"Navratan Korma, Mixed Vegetable &amp; Cottage Che...</td>\n",
       "    </tr>\n",
       "    <tr>\n",
       "      <th>34440</th>\n",
       "      <td>34441</td>\n",
       "      <td>B008FHUDW0</td>\n",
       "      <td>A3OXHLG6DIBRW8</td>\n",
       "      <td>C. F. Hill \"CFH\"</td>\n",
       "      <td>0</td>\n",
       "      <td>0</td>\n",
       "      <td>5</td>\n",
       "      <td>1282521600</td>\n",
       "      <td>Very Smooth Coffee - Highly Recommended</td>\n",
       "      <td>Caribou Coffee \"Caribou Blend\" K-Cups make a v...</td>\n",
       "    </tr>\n",
       "    <tr>\n",
       "      <th>34934</th>\n",
       "      <td>34935</td>\n",
       "      <td>B002DLXXHG</td>\n",
       "      <td>A3OXHLG6DIBRW8</td>\n",
       "      <td>C. F. Hill \"CFH\"</td>\n",
       "      <td>0</td>\n",
       "      <td>0</td>\n",
       "      <td>3</td>\n",
       "      <td>1256860800</td>\n",
       "      <td>Good Tasting and Tender, But...</td>\n",
       "      <td>While \"Wild Ride Beef Jerky Cowboy Strips\" do ...</td>\n",
       "    </tr>\n",
       "    <tr>\n",
       "      <th>37760</th>\n",
       "      <td>37761</td>\n",
       "      <td>B000F4T12O</td>\n",
       "      <td>A3OXHLG6DIBRW8</td>\n",
       "      <td>C. F. Hill \"CFH\"</td>\n",
       "      <td>0</td>\n",
       "      <td>0</td>\n",
       "      <td>5</td>\n",
       "      <td>1325203200</td>\n",
       "      <td>Great Mini-Lollipops - Highly Recommended</td>\n",
       "      <td>We love Chupa Chups lollipops and were thrille...</td>\n",
       "    </tr>\n",
       "    <tr>\n",
       "      <th>37795</th>\n",
       "      <td>37796</td>\n",
       "      <td>B000LKVDO6</td>\n",
       "      <td>A3OXHLG6DIBRW8</td>\n",
       "      <td>C. F. Hill \"CFH\"</td>\n",
       "      <td>0</td>\n",
       "      <td>0</td>\n",
       "      <td>4</td>\n",
       "      <td>1281312000</td>\n",
       "      <td>Good \"Heat and Eat\" Indian Dish - Recommended</td>\n",
       "      <td>\"Pav Bhaji, Mashed Vegetable Curry\" was one of...</td>\n",
       "    </tr>\n",
       "    <tr>\n",
       "      <th>38356</th>\n",
       "      <td>38357</td>\n",
       "      <td>B000FZ0TL0</td>\n",
       "      <td>A3OXHLG6DIBRW8</td>\n",
       "      <td>C. F. Hill \"CFH\"</td>\n",
       "      <td>2</td>\n",
       "      <td>2</td>\n",
       "      <td>4</td>\n",
       "      <td>1240876800</td>\n",
       "      <td>Good Tasting Jerky - Recommended</td>\n",
       "      <td>The Buffalo Bills \"Honey Pepper Beef Jerky\" is...</td>\n",
       "    </tr>\n",
       "    <tr>\n",
       "      <th>38924</th>\n",
       "      <td>38925</td>\n",
       "      <td>B001IZHSWO</td>\n",
       "      <td>A3OXHLG6DIBRW8</td>\n",
       "      <td>C. F. Hill \"CFH\"</td>\n",
       "      <td>0</td>\n",
       "      <td>0</td>\n",
       "      <td>5</td>\n",
       "      <td>1269475200</td>\n",
       "      <td>Good Flavor and Fairly Hot - Highly Recommended!</td>\n",
       "      <td>I have tried Jack Links \"Hot Heads\" and the \"S...</td>\n",
       "    </tr>\n",
       "    <tr>\n",
       "      <th>41874</th>\n",
       "      <td>41875</td>\n",
       "      <td>B007GBNOSG</td>\n",
       "      <td>A3OXHLG6DIBRW8</td>\n",
       "      <td>C. F. Hill \"CFH\"</td>\n",
       "      <td>0</td>\n",
       "      <td>0</td>\n",
       "      <td>5</td>\n",
       "      <td>1333238400</td>\n",
       "      <td>Great Black Cherry Flavor - Highly Recommended</td>\n",
       "      <td>These David's Signature Beyond Gourmet \"Black ...</td>\n",
       "    </tr>\n",
       "    <tr>\n",
       "      <th>43578</th>\n",
       "      <td>43579</td>\n",
       "      <td>B001EQ4P2I</td>\n",
       "      <td>A3OXHLG6DIBRW8</td>\n",
       "      <td>C. F. Hill \"CFH\"</td>\n",
       "      <td>1</td>\n",
       "      <td>1</td>\n",
       "      <td>5</td>\n",
       "      <td>1329609600</td>\n",
       "      <td>Great Spicy Snack - Highly Recommended</td>\n",
       "      <td>The Blue Diamond Jalapeno Smokehouse Almonds a...</td>\n",
       "    </tr>\n",
       "    <tr>\n",
       "      <th>...</th>\n",
       "      <td>...</td>\n",
       "      <td>...</td>\n",
       "      <td>...</td>\n",
       "      <td>...</td>\n",
       "      <td>...</td>\n",
       "      <td>...</td>\n",
       "      <td>...</td>\n",
       "      <td>...</td>\n",
       "      <td>...</td>\n",
       "      <td>...</td>\n",
       "    </tr>\n",
       "    <tr>\n",
       "      <th>528421</th>\n",
       "      <td>528422</td>\n",
       "      <td>B0087GGS3W</td>\n",
       "      <td>A3OXHLG6DIBRW8</td>\n",
       "      <td>C. F. Hill \"CFH\"</td>\n",
       "      <td>0</td>\n",
       "      <td>0</td>\n",
       "      <td>4</td>\n",
       "      <td>1346112000</td>\n",
       "      <td>Excellent Coffee But Somewhat Expensive - Reco...</td>\n",
       "      <td>This Starbucks French Roast K-Cup is indeed a ...</td>\n",
       "    </tr>\n",
       "    <tr>\n",
       "      <th>532614</th>\n",
       "      <td>532615</td>\n",
       "      <td>B0018RYBYA</td>\n",
       "      <td>A3OXHLG6DIBRW8</td>\n",
       "      <td>C. F. Hill \"CFH\"</td>\n",
       "      <td>2</td>\n",
       "      <td>2</td>\n",
       "      <td>5</td>\n",
       "      <td>1241740800</td>\n",
       "      <td>Fantastic Low Carb Pasta! Highly Recommended!</td>\n",
       "      <td>This great tasting pasta is a diabetic's Godse...</td>\n",
       "    </tr>\n",
       "    <tr>\n",
       "      <th>533630</th>\n",
       "      <td>533631</td>\n",
       "      <td>B001LKORYS</td>\n",
       "      <td>A3OXHLG6DIBRW8</td>\n",
       "      <td>C. F. Hill \"CFH\"</td>\n",
       "      <td>0</td>\n",
       "      <td>0</td>\n",
       "      <td>5</td>\n",
       "      <td>1236384000</td>\n",
       "      <td>Great Tasting Sugar-Free Snack! Highly Recomme...</td>\n",
       "      <td>Jell-O \"Sugar-Free Instant Pudding\" is a great...</td>\n",
       "    </tr>\n",
       "    <tr>\n",
       "      <th>534640</th>\n",
       "      <td>534641</td>\n",
       "      <td>B0018Q1G94</td>\n",
       "      <td>A3OXHLG6DIBRW8</td>\n",
       "      <td>C. F. Hill \"CFH\"</td>\n",
       "      <td>3</td>\n",
       "      <td>3</td>\n",
       "      <td>5</td>\n",
       "      <td>1241740800</td>\n",
       "      <td>Fantastic Low Carb Pasta! Highly Recommended</td>\n",
       "      <td>This great tasting pasta is a diabetic's Godse...</td>\n",
       "    </tr>\n",
       "    <tr>\n",
       "      <th>535044</th>\n",
       "      <td>535045</td>\n",
       "      <td>B001NI0FJO</td>\n",
       "      <td>A3OXHLG6DIBRW8</td>\n",
       "      <td>C. F. Hill \"CFH\"</td>\n",
       "      <td>0</td>\n",
       "      <td>0</td>\n",
       "      <td>5</td>\n",
       "      <td>1310342400</td>\n",
       "      <td>Really Long Lasting Gum - Highly Recommended</td>\n",
       "      <td>This is seriously long lasting gum with a grea...</td>\n",
       "    </tr>\n",
       "    <tr>\n",
       "      <th>539876</th>\n",
       "      <td>539877</td>\n",
       "      <td>B001E4Q5GO</td>\n",
       "      <td>A3OXHLG6DIBRW8</td>\n",
       "      <td>C. F. Hill \"CFH\"</td>\n",
       "      <td>0</td>\n",
       "      <td>0</td>\n",
       "      <td>4</td>\n",
       "      <td>1236384000</td>\n",
       "      <td>Really Very Good Diet Hot Cocoa! Recommended!</td>\n",
       "      <td>\"Swiss Miss Diet Hot Cocoa\" is a very good Hot...</td>\n",
       "    </tr>\n",
       "    <tr>\n",
       "      <th>540290</th>\n",
       "      <td>540291</td>\n",
       "      <td>B001E4S6TI</td>\n",
       "      <td>A3OXHLG6DIBRW8</td>\n",
       "      <td>C. F. Hill \"CFH\"</td>\n",
       "      <td>2</td>\n",
       "      <td>2</td>\n",
       "      <td>4</td>\n",
       "      <td>1236384000</td>\n",
       "      <td>Really Good Diet Hot Cocoa! Recommended!</td>\n",
       "      <td>\"Swiss Miss No Sugar Added Hot Cocoa\" is a ver...</td>\n",
       "    </tr>\n",
       "    <tr>\n",
       "      <th>540742</th>\n",
       "      <td>540743</td>\n",
       "      <td>B001E4Q49W</td>\n",
       "      <td>A3OXHLG6DIBRW8</td>\n",
       "      <td>C. F. Hill \"CFH\"</td>\n",
       "      <td>7</td>\n",
       "      <td>7</td>\n",
       "      <td>4</td>\n",
       "      <td>1236384000</td>\n",
       "      <td>Really Good Diet Hot Chocolate! Recommended</td>\n",
       "      <td>\"Swiss Miss No Sugar Added Hot Cocoa\" is a ver...</td>\n",
       "    </tr>\n",
       "    <tr>\n",
       "      <th>541878</th>\n",
       "      <td>541879</td>\n",
       "      <td>B000FKQD42</td>\n",
       "      <td>A3OXHLG6DIBRW8</td>\n",
       "      <td>C. F. Hill \"CFH\"</td>\n",
       "      <td>0</td>\n",
       "      <td>0</td>\n",
       "      <td>5</td>\n",
       "      <td>1327017600</td>\n",
       "      <td>Powerful Ginger - Highly Recommended</td>\n",
       "      <td>These Altoids Ginger mints have great strong g...</td>\n",
       "    </tr>\n",
       "    <tr>\n",
       "      <th>542542</th>\n",
       "      <td>542543</td>\n",
       "      <td>B001E50WDA</td>\n",
       "      <td>A3OXHLG6DIBRW8</td>\n",
       "      <td>C. F. Hill \"CFH\"</td>\n",
       "      <td>0</td>\n",
       "      <td>0</td>\n",
       "      <td>5</td>\n",
       "      <td>1236384000</td>\n",
       "      <td>Great Diabetic Friendly Sweetener! Highly Reco...</td>\n",
       "      <td>\"Splenda\" is one of my favorite things ever! B...</td>\n",
       "    </tr>\n",
       "    <tr>\n",
       "      <th>543513</th>\n",
       "      <td>543514</td>\n",
       "      <td>B006MONQMC</td>\n",
       "      <td>A3OXHLG6DIBRW8</td>\n",
       "      <td>C. F. Hill \"CFH\"</td>\n",
       "      <td>0</td>\n",
       "      <td>0</td>\n",
       "      <td>4</td>\n",
       "      <td>1338336000</td>\n",
       "      <td>Good Tasting, Good Energy - Recommended</td>\n",
       "      <td>This Vitamin Squeeze Energy Drink is good tast...</td>\n",
       "    </tr>\n",
       "    <tr>\n",
       "      <th>544503</th>\n",
       "      <td>544504</td>\n",
       "      <td>B001KYCQXE</td>\n",
       "      <td>A3OXHLG6DIBRW8</td>\n",
       "      <td>C. F. Hill \"CFH\"</td>\n",
       "      <td>2</td>\n",
       "      <td>2</td>\n",
       "      <td>5</td>\n",
       "      <td>1279238400</td>\n",
       "      <td>Great Solution For Carrying Splenda - Highly R...</td>\n",
       "      <td>Splenda Minis are a very convenient way to car...</td>\n",
       "    </tr>\n",
       "    <tr>\n",
       "      <th>545514</th>\n",
       "      <td>545515</td>\n",
       "      <td>B0054I4LTO</td>\n",
       "      <td>A3OXHLG6DIBRW8</td>\n",
       "      <td>C. F. Hill \"CFH\"</td>\n",
       "      <td>0</td>\n",
       "      <td>0</td>\n",
       "      <td>4</td>\n",
       "      <td>1314748800</td>\n",
       "      <td>Sweetener With Fiber - Recommended</td>\n",
       "      <td>Splenda is the sweetener I prefer to use, bein...</td>\n",
       "    </tr>\n",
       "    <tr>\n",
       "      <th>546983</th>\n",
       "      <td>546984</td>\n",
       "      <td>B000AYGXKC</td>\n",
       "      <td>A3OXHLG6DIBRW8</td>\n",
       "      <td>C. F. Hill \"CFH\"</td>\n",
       "      <td>0</td>\n",
       "      <td>0</td>\n",
       "      <td>4</td>\n",
       "      <td>1244160000</td>\n",
       "      <td>Good Sugar Free Cookies - Recommended</td>\n",
       "      <td>I have tried several types of Murray sugar fre...</td>\n",
       "    </tr>\n",
       "    <tr>\n",
       "      <th>546984</th>\n",
       "      <td>546985</td>\n",
       "      <td>B000AYGXKC</td>\n",
       "      <td>A3OXHLG6DIBRW8</td>\n",
       "      <td>C. F. Hill \"CFH\"</td>\n",
       "      <td>0</td>\n",
       "      <td>0</td>\n",
       "      <td>4</td>\n",
       "      <td>1244160000</td>\n",
       "      <td>Good Tasting Sugar Free Cookies - Recommended</td>\n",
       "      <td>Murray \"Sugar Free Fudge Dipped Vanilla Wafer ...</td>\n",
       "    </tr>\n",
       "    <tr>\n",
       "      <th>547090</th>\n",
       "      <td>547091</td>\n",
       "      <td>B003Q4TVJS</td>\n",
       "      <td>A3OXHLG6DIBRW8</td>\n",
       "      <td>C. F. Hill \"CFH\"</td>\n",
       "      <td>3</td>\n",
       "      <td>3</td>\n",
       "      <td>5</td>\n",
       "      <td>1337472000</td>\n",
       "      <td>Really Good Flavor - Highly Recommended</td>\n",
       "      <td>This DaVinci sugar free Kahlua syrup is a grea...</td>\n",
       "    </tr>\n",
       "    <tr>\n",
       "      <th>548114</th>\n",
       "      <td>548115</td>\n",
       "      <td>B007RTR9G0</td>\n",
       "      <td>A3OXHLG6DIBRW8</td>\n",
       "      <td>C. F. Hill \"CFH\"</td>\n",
       "      <td>1</td>\n",
       "      <td>1</td>\n",
       "      <td>2</td>\n",
       "      <td>1345420800</td>\n",
       "      <td>Not For Us</td>\n",
       "      <td>This \"Scalp &amp; Hair Oil\" was a huge disappointm...</td>\n",
       "    </tr>\n",
       "    <tr>\n",
       "      <th>548419</th>\n",
       "      <td>548420</td>\n",
       "      <td>B004HGGPDY</td>\n",
       "      <td>A3OXHLG6DIBRW8</td>\n",
       "      <td>C. F. Hill \"CFH\"</td>\n",
       "      <td>1</td>\n",
       "      <td>1</td>\n",
       "      <td>3</td>\n",
       "      <td>1347235200</td>\n",
       "      <td>It's OK At first</td>\n",
       "      <td>This Wrigley's Green Apple gum has, to me, a d...</td>\n",
       "    </tr>\n",
       "    <tr>\n",
       "      <th>552395</th>\n",
       "      <td>552396</td>\n",
       "      <td>B0007OPW5C</td>\n",
       "      <td>A3OXHLG6DIBRW8</td>\n",
       "      <td>C. F. Hill \"CFH\"</td>\n",
       "      <td>0</td>\n",
       "      <td>0</td>\n",
       "      <td>4</td>\n",
       "      <td>1253404800</td>\n",
       "      <td>Very Good Cinnamon Flavor Toothpicks - Recomme...</td>\n",
       "      <td>I found these Hot Cinnamon Toothpicks to be ve...</td>\n",
       "    </tr>\n",
       "    <tr>\n",
       "      <th>553589</th>\n",
       "      <td>553590</td>\n",
       "      <td>B001E6IULK</td>\n",
       "      <td>A3OXHLG6DIBRW8</td>\n",
       "      <td>C. F. Hill \"CFH\"</td>\n",
       "      <td>0</td>\n",
       "      <td>0</td>\n",
       "      <td>5</td>\n",
       "      <td>1310515200</td>\n",
       "      <td>Filling Snack - Highly Recommended</td>\n",
       "      <td>These Nature Valley \"Crunch Granola Bars, Pean...</td>\n",
       "    </tr>\n",
       "    <tr>\n",
       "      <th>555536</th>\n",
       "      <td>555537</td>\n",
       "      <td>B0032D8IOC</td>\n",
       "      <td>A3OXHLG6DIBRW8</td>\n",
       "      <td>C. F. Hill \"CFH\"</td>\n",
       "      <td>10</td>\n",
       "      <td>10</td>\n",
       "      <td>5</td>\n",
       "      <td>1282089600</td>\n",
       "      <td>Very Good Teas - Highly Recommended</td>\n",
       "      <td>We bought the Celestial Seasonings K-Cup Tea S...</td>\n",
       "    </tr>\n",
       "    <tr>\n",
       "      <th>558464</th>\n",
       "      <td>558465</td>\n",
       "      <td>B000GW68Z8</td>\n",
       "      <td>A3OXHLG6DIBRW8</td>\n",
       "      <td>C. F. Hill \"CFH\"</td>\n",
       "      <td>1</td>\n",
       "      <td>1</td>\n",
       "      <td>5</td>\n",
       "      <td>1256601600</td>\n",
       "      <td>Really Good Flavored Coffee Sweetener - Highly...</td>\n",
       "      <td>I already use Splenda as a sweetener, so was p...</td>\n",
       "    </tr>\n",
       "    <tr>\n",
       "      <th>560471</th>\n",
       "      <td>560472</td>\n",
       "      <td>B000CQID1K</td>\n",
       "      <td>A3OXHLG6DIBRW8</td>\n",
       "      <td>C. F. Hill \"CFH\"</td>\n",
       "      <td>0</td>\n",
       "      <td>0</td>\n",
       "      <td>4</td>\n",
       "      <td>1271289600</td>\n",
       "      <td>Good Meat Snack - Recommended</td>\n",
       "      <td>This review is for the Slim Jim .28oz (Pack of...</td>\n",
       "    </tr>\n",
       "    <tr>\n",
       "      <th>560666</th>\n",
       "      <td>560667</td>\n",
       "      <td>B000F7V872</td>\n",
       "      <td>A3OXHLG6DIBRW8</td>\n",
       "      <td>C. F. Hill \"CFH\"</td>\n",
       "      <td>5</td>\n",
       "      <td>5</td>\n",
       "      <td>5</td>\n",
       "      <td>1260835200</td>\n",
       "      <td>Wonderful Sugar Free Flavoring! Highly Recomme...</td>\n",
       "      <td>The Kahlua Flavor is one of my favorite DaVinc...</td>\n",
       "    </tr>\n",
       "    <tr>\n",
       "      <th>561988</th>\n",
       "      <td>561989</td>\n",
       "      <td>B005XB67F8</td>\n",
       "      <td>A3OXHLG6DIBRW8</td>\n",
       "      <td>C. F. Hill \"CFH\"</td>\n",
       "      <td>0</td>\n",
       "      <td>0</td>\n",
       "      <td>4</td>\n",
       "      <td>1346112000</td>\n",
       "      <td>Excellent Coffee But Somewhat Expensive - Reco...</td>\n",
       "      <td>This Starbucks French Roast K-Cup is indeed a ...</td>\n",
       "    </tr>\n",
       "    <tr>\n",
       "      <th>562279</th>\n",
       "      <td>562280</td>\n",
       "      <td>B004HOSGWE</td>\n",
       "      <td>A3OXHLG6DIBRW8</td>\n",
       "      <td>C. F. Hill \"CFH\"</td>\n",
       "      <td>1</td>\n",
       "      <td>1</td>\n",
       "      <td>5</td>\n",
       "      <td>1329609600</td>\n",
       "      <td>Great Spicy Snack - Highly Recommended</td>\n",
       "      <td>The Blue Diamond Jalapeno Smokehouse Almonds a...</td>\n",
       "    </tr>\n",
       "    <tr>\n",
       "      <th>563973</th>\n",
       "      <td>563974</td>\n",
       "      <td>B001XSMANI</td>\n",
       "      <td>A3OXHLG6DIBRW8</td>\n",
       "      <td>C. F. Hill \"CFH\"</td>\n",
       "      <td>3</td>\n",
       "      <td>4</td>\n",
       "      <td>5</td>\n",
       "      <td>1279411200</td>\n",
       "      <td>Great Tasting and a Great Value - Highly Recom...</td>\n",
       "      <td>Kirkland Jelly Beans are a great value and all...</td>\n",
       "    </tr>\n",
       "    <tr>\n",
       "      <th>564414</th>\n",
       "      <td>564415</td>\n",
       "      <td>B001D3LUP2</td>\n",
       "      <td>A3OXHLG6DIBRW8</td>\n",
       "      <td>C. F. Hill \"CFH\"</td>\n",
       "      <td>2</td>\n",
       "      <td>2</td>\n",
       "      <td>3</td>\n",
       "      <td>1243209600</td>\n",
       "      <td>Good Tasting Sugarfree Gum - Flavor Tapers Off...</td>\n",
       "      <td>Wrigley's  Elixir Gum is good tasting, but onl...</td>\n",
       "    </tr>\n",
       "    <tr>\n",
       "      <th>567686</th>\n",
       "      <td>567687</td>\n",
       "      <td>B005K4Q68Q</td>\n",
       "      <td>A3OXHLG6DIBRW8</td>\n",
       "      <td>C. F. Hill \"CFH\"</td>\n",
       "      <td>24</td>\n",
       "      <td>25</td>\n",
       "      <td>5</td>\n",
       "      <td>1321401600</td>\n",
       "      <td>Really Good Hot Cocoa - Highly Recommended</td>\n",
       "      <td>These Grove Square Hot Cocoa flavors are by fa...</td>\n",
       "    </tr>\n",
       "    <tr>\n",
       "      <th>567796</th>\n",
       "      <td>567797</td>\n",
       "      <td>B005K4Q68Q</td>\n",
       "      <td>A3OXHLG6DIBRW8</td>\n",
       "      <td>C. F. Hill \"CFH\"</td>\n",
       "      <td>5</td>\n",
       "      <td>5</td>\n",
       "      <td>5</td>\n",
       "      <td>1321401600</td>\n",
       "      <td>Really Good Hot Cocoa - Highly Recommended</td>\n",
       "      <td>These Grove Square Hot Cocoa flavors are by fa...</td>\n",
       "    </tr>\n",
       "  </tbody>\n",
       "</table>\n",
       "<p>448 rows × 10 columns</p>\n",
       "</div>"
      ],
      "text/plain": [
       "            Id   ProductId          UserId       ProfileName  \\\n",
       "369        370  B002O3VHXU  A3OXHLG6DIBRW8  C. F. Hill \"CFH\"   \n",
       "813        814  B004ET7MG8  A3OXHLG6DIBRW8  C. F. Hill \"CFH\"   \n",
       "3306      3307  B005K4Q1VI  A3OXHLG6DIBRW8  C. F. Hill \"CFH\"   \n",
       "3416      3417  B005K4Q1VI  A3OXHLG6DIBRW8  C. F. Hill \"CFH\"   \n",
       "3926      3927  B000VSDFRG  A3OXHLG6DIBRW8  C. F. Hill \"CFH\"   \n",
       "6160      6161  B007J6GGII  A3OXHLG6DIBRW8  C. F. Hill \"CFH\"   \n",
       "7773      7774  B007J6KEPY  A3OXHLG6DIBRW8  C. F. Hill \"CFH\"   \n",
       "10715    10716  B00389Q4XW  A3OXHLG6DIBRW8  C. F. Hill \"CFH\"   \n",
       "15318    15319  B00503DP0O  A3OXHLG6DIBRW8  C. F. Hill \"CFH\"   \n",
       "15792    15793  B007TJGZ5E  A3OXHLG6DIBRW8  C. F. Hill \"CFH\"   \n",
       "15819    15820  B007TJGZ5E  A3OXHLG6DIBRW8  C. F. Hill \"CFH\"   \n",
       "17732    17733  B000Z978SS  A3OXHLG6DIBRW8  C. F. Hill \"CFH\"   \n",
       "18508    18509  B001FA1DYG  A3OXHLG6DIBRW8  C. F. Hill \"CFH\"   \n",
       "18764    18765  B001534R00  A3OXHLG6DIBRW8  C. F. Hill \"CFH\"   \n",
       "19349    19350  B007J6J8J2  A3OXHLG6DIBRW8  C. F. Hill \"CFH\"   \n",
       "20662    20663  B000MP84MO  A3OXHLG6DIBRW8  C. F. Hill \"CFH\"   \n",
       "23629    23630  B000E1FXLG  A3OXHLG6DIBRW8  C. F. Hill \"CFH\"   \n",
       "24946    24947  B0078Y6OX8  A3OXHLG6DIBRW8  C. F. Hill \"CFH\"   \n",
       "27448    27449  B003EHCIMO  A3OXHLG6DIBRW8  C. F. Hill \"CFH\"   \n",
       "29884    29885  B005VOOQLO  A3OXHLG6DIBRW8  C. F. Hill \"CFH\"   \n",
       "30363    30364  B005DDCKJ8  A3OXHLG6DIBRW8  C. F. Hill \"CFH\"   \n",
       "34074    34075  B000LKVDUU  A3OXHLG6DIBRW8  C. F. Hill \"CFH\"   \n",
       "34440    34441  B008FHUDW0  A3OXHLG6DIBRW8  C. F. Hill \"CFH\"   \n",
       "34934    34935  B002DLXXHG  A3OXHLG6DIBRW8  C. F. Hill \"CFH\"   \n",
       "37760    37761  B000F4T12O  A3OXHLG6DIBRW8  C. F. Hill \"CFH\"   \n",
       "37795    37796  B000LKVDO6  A3OXHLG6DIBRW8  C. F. Hill \"CFH\"   \n",
       "38356    38357  B000FZ0TL0  A3OXHLG6DIBRW8  C. F. Hill \"CFH\"   \n",
       "38924    38925  B001IZHSWO  A3OXHLG6DIBRW8  C. F. Hill \"CFH\"   \n",
       "41874    41875  B007GBNOSG  A3OXHLG6DIBRW8  C. F. Hill \"CFH\"   \n",
       "43578    43579  B001EQ4P2I  A3OXHLG6DIBRW8  C. F. Hill \"CFH\"   \n",
       "...        ...         ...             ...               ...   \n",
       "528421  528422  B0087GGS3W  A3OXHLG6DIBRW8  C. F. Hill \"CFH\"   \n",
       "532614  532615  B0018RYBYA  A3OXHLG6DIBRW8  C. F. Hill \"CFH\"   \n",
       "533630  533631  B001LKORYS  A3OXHLG6DIBRW8  C. F. Hill \"CFH\"   \n",
       "534640  534641  B0018Q1G94  A3OXHLG6DIBRW8  C. F. Hill \"CFH\"   \n",
       "535044  535045  B001NI0FJO  A3OXHLG6DIBRW8  C. F. Hill \"CFH\"   \n",
       "539876  539877  B001E4Q5GO  A3OXHLG6DIBRW8  C. F. Hill \"CFH\"   \n",
       "540290  540291  B001E4S6TI  A3OXHLG6DIBRW8  C. F. Hill \"CFH\"   \n",
       "540742  540743  B001E4Q49W  A3OXHLG6DIBRW8  C. F. Hill \"CFH\"   \n",
       "541878  541879  B000FKQD42  A3OXHLG6DIBRW8  C. F. Hill \"CFH\"   \n",
       "542542  542543  B001E50WDA  A3OXHLG6DIBRW8  C. F. Hill \"CFH\"   \n",
       "543513  543514  B006MONQMC  A3OXHLG6DIBRW8  C. F. Hill \"CFH\"   \n",
       "544503  544504  B001KYCQXE  A3OXHLG6DIBRW8  C. F. Hill \"CFH\"   \n",
       "545514  545515  B0054I4LTO  A3OXHLG6DIBRW8  C. F. Hill \"CFH\"   \n",
       "546983  546984  B000AYGXKC  A3OXHLG6DIBRW8  C. F. Hill \"CFH\"   \n",
       "546984  546985  B000AYGXKC  A3OXHLG6DIBRW8  C. F. Hill \"CFH\"   \n",
       "547090  547091  B003Q4TVJS  A3OXHLG6DIBRW8  C. F. Hill \"CFH\"   \n",
       "548114  548115  B007RTR9G0  A3OXHLG6DIBRW8  C. F. Hill \"CFH\"   \n",
       "548419  548420  B004HGGPDY  A3OXHLG6DIBRW8  C. F. Hill \"CFH\"   \n",
       "552395  552396  B0007OPW5C  A3OXHLG6DIBRW8  C. F. Hill \"CFH\"   \n",
       "553589  553590  B001E6IULK  A3OXHLG6DIBRW8  C. F. Hill \"CFH\"   \n",
       "555536  555537  B0032D8IOC  A3OXHLG6DIBRW8  C. F. Hill \"CFH\"   \n",
       "558464  558465  B000GW68Z8  A3OXHLG6DIBRW8  C. F. Hill \"CFH\"   \n",
       "560471  560472  B000CQID1K  A3OXHLG6DIBRW8  C. F. Hill \"CFH\"   \n",
       "560666  560667  B000F7V872  A3OXHLG6DIBRW8  C. F. Hill \"CFH\"   \n",
       "561988  561989  B005XB67F8  A3OXHLG6DIBRW8  C. F. Hill \"CFH\"   \n",
       "562279  562280  B004HOSGWE  A3OXHLG6DIBRW8  C. F. Hill \"CFH\"   \n",
       "563973  563974  B001XSMANI  A3OXHLG6DIBRW8  C. F. Hill \"CFH\"   \n",
       "564414  564415  B001D3LUP2  A3OXHLG6DIBRW8  C. F. Hill \"CFH\"   \n",
       "567686  567687  B005K4Q68Q  A3OXHLG6DIBRW8  C. F. Hill \"CFH\"   \n",
       "567796  567797  B005K4Q68Q  A3OXHLG6DIBRW8  C. F. Hill \"CFH\"   \n",
       "\n",
       "        HelpfulnessNumerator  HelpfulnessDenominator  Score        Time  \\\n",
       "369                        1                       1      5  1282176000   \n",
       "813                        3                       4      2  1272240000   \n",
       "3306                      24                      25      5  1321401600   \n",
       "3416                       5                       5      5  1321401600   \n",
       "3926                       2                       2      5  1237161600   \n",
       "6160                       0                       0      4  1332633600   \n",
       "7773                       0                       0      5  1332633600   \n",
       "10715                      0                       0      4  1283126400   \n",
       "15318                      0                       0      4  1311897600   \n",
       "15792                      0                       0      5  1282176000   \n",
       "15819                      3                       3      5  1282176000   \n",
       "17732                     17                      18      4  1224201600   \n",
       "18508                      0                       0      5  1285891200   \n",
       "18764                      1                       1      4  1275868800   \n",
       "19349                      0                       0      5  1332979200   \n",
       "20662                      2                       2      5  1283644800   \n",
       "23629                      2                       2      5  1236384000   \n",
       "24946                      0                       0      3  1283212800   \n",
       "27448                      0                       0      4  1339459200   \n",
       "29884                      0                       0      4  1332374400   \n",
       "30363                      0                       0      4  1285545600   \n",
       "34074                      0                       0      5  1280966400   \n",
       "34440                      0                       0      5  1282521600   \n",
       "34934                      0                       0      3  1256860800   \n",
       "37760                      0                       0      5  1325203200   \n",
       "37795                      0                       0      4  1281312000   \n",
       "38356                      2                       2      4  1240876800   \n",
       "38924                      0                       0      5  1269475200   \n",
       "41874                      0                       0      5  1333238400   \n",
       "43578                      1                       1      5  1329609600   \n",
       "...                      ...                     ...    ...         ...   \n",
       "528421                     0                       0      4  1346112000   \n",
       "532614                     2                       2      5  1241740800   \n",
       "533630                     0                       0      5  1236384000   \n",
       "534640                     3                       3      5  1241740800   \n",
       "535044                     0                       0      5  1310342400   \n",
       "539876                     0                       0      4  1236384000   \n",
       "540290                     2                       2      4  1236384000   \n",
       "540742                     7                       7      4  1236384000   \n",
       "541878                     0                       0      5  1327017600   \n",
       "542542                     0                       0      5  1236384000   \n",
       "543513                     0                       0      4  1338336000   \n",
       "544503                     2                       2      5  1279238400   \n",
       "545514                     0                       0      4  1314748800   \n",
       "546983                     0                       0      4  1244160000   \n",
       "546984                     0                       0      4  1244160000   \n",
       "547090                     3                       3      5  1337472000   \n",
       "548114                     1                       1      2  1345420800   \n",
       "548419                     1                       1      3  1347235200   \n",
       "552395                     0                       0      4  1253404800   \n",
       "553589                     0                       0      5  1310515200   \n",
       "555536                    10                      10      5  1282089600   \n",
       "558464                     1                       1      5  1256601600   \n",
       "560471                     0                       0      4  1271289600   \n",
       "560666                     5                       5      5  1260835200   \n",
       "561988                     0                       0      4  1346112000   \n",
       "562279                     1                       1      5  1329609600   \n",
       "563973                     3                       4      5  1279411200   \n",
       "564414                     2                       2      3  1243209600   \n",
       "567686                    24                      25      5  1321401600   \n",
       "567796                     5                       5      5  1321401600   \n",
       "\n",
       "                                                  Summary  \\\n",
       "369               Very Smooth Coffee - Highly Recommended   \n",
       "813                     Odd Fake Flavor - Not Recommended   \n",
       "3306           Really Good Hot Cocoa - Highly Recommended   \n",
       "3416           Really Good Hot Cocoa - Highly Recommended   \n",
       "3926    Great Diabetic Friendly Candy - Highly Recomme...   \n",
       "6160                                    True Bacon Flavor   \n",
       "7773              Outstanding Flavor - Highly Recommended   \n",
       "10715                        Good Hot Cocoa - Recommended   \n",
       "15318          Very Good Tasting Snack Bars - Recommended   \n",
       "15792             Very Smooth Coffee - Highly Recommended   \n",
       "15819             Very Smooth Coffee - Highly Recommended   \n",
       "17732   Really Good Sugar Substitute - Highly Recommen...   \n",
       "18508     Great For College Students - Highly Recommended   \n",
       "18764                Effective Energy Drink - Recommended   \n",
       "19349          Very Good Jelly Beans - Highly Recommended   \n",
       "20662     Excellent Bold Kona Coffee - Highly Recommended   \n",
       "23629       Great Sugar-Free Pudding! Highly Recommended!   \n",
       "24946                           Drinkable Flavored Coffee   \n",
       "27448     Good Tasting Coffee, With A Kick - Recommended!   \n",
       "29884                     Good Engery Shots - Recommended   \n",
       "30363       Good Tasting, Diabetic Friendly - Recommended   \n",
       "34074    Very Good Ready To Eat Meal - Highly Recommended   \n",
       "34440             Very Smooth Coffee - Highly Recommended   \n",
       "34934                     Good Tasting and Tender, But...   \n",
       "37760           Great Mini-Lollipops - Highly Recommended   \n",
       "37795       Good \"Heat and Eat\" Indian Dish - Recommended   \n",
       "38356                    Good Tasting Jerky - Recommended   \n",
       "38924    Good Flavor and Fairly Hot - Highly Recommended!   \n",
       "41874      Great Black Cherry Flavor - Highly Recommended   \n",
       "43578              Great Spicy Snack - Highly Recommended   \n",
       "...                                                   ...   \n",
       "528421  Excellent Coffee But Somewhat Expensive - Reco...   \n",
       "532614      Fantastic Low Carb Pasta! Highly Recommended!   \n",
       "533630  Great Tasting Sugar-Free Snack! Highly Recomme...   \n",
       "534640       Fantastic Low Carb Pasta! Highly Recommended   \n",
       "535044       Really Long Lasting Gum - Highly Recommended   \n",
       "539876      Really Very Good Diet Hot Cocoa! Recommended!   \n",
       "540290           Really Good Diet Hot Cocoa! Recommended!   \n",
       "540742        Really Good Diet Hot Chocolate! Recommended   \n",
       "541878               Powerful Ginger - Highly Recommended   \n",
       "542542  Great Diabetic Friendly Sweetener! Highly Reco...   \n",
       "543513            Good Tasting, Good Energy - Recommended   \n",
       "544503  Great Solution For Carrying Splenda - Highly R...   \n",
       "545514                 Sweetener With Fiber - Recommended   \n",
       "546983              Good Sugar Free Cookies - Recommended   \n",
       "546984      Good Tasting Sugar Free Cookies - Recommended   \n",
       "547090            Really Good Flavor - Highly Recommended   \n",
       "548114                                         Not For Us   \n",
       "548419                                   It's OK At first   \n",
       "552395  Very Good Cinnamon Flavor Toothpicks - Recomme...   \n",
       "553589                 Filling Snack - Highly Recommended   \n",
       "555536                Very Good Teas - Highly Recommended   \n",
       "558464  Really Good Flavored Coffee Sweetener - Highly...   \n",
       "560471                      Good Meat Snack - Recommended   \n",
       "560666  Wonderful Sugar Free Flavoring! Highly Recomme...   \n",
       "561988  Excellent Coffee But Somewhat Expensive - Reco...   \n",
       "562279             Great Spicy Snack - Highly Recommended   \n",
       "563973  Great Tasting and a Great Value - Highly Recom...   \n",
       "564414  Good Tasting Sugarfree Gum - Flavor Tapers Off...   \n",
       "567686         Really Good Hot Cocoa - Highly Recommended   \n",
       "567796         Really Good Hot Cocoa - Highly Recommended   \n",
       "\n",
       "                                                     Text  \n",
       "369     Green Mountain \"Nantucket Blend\" K-Cups make a...  \n",
       "813     Trident \"Strawberry Twist\" sugarless gum is ve...  \n",
       "3306    These Grove Square Hot Cocoa flavors are by fa...  \n",
       "3416    These Grove Square Hot Cocoa flavors are by fa...  \n",
       "3926    Hershey \"Sugar Free Caramel Filled Chocolates\"...  \n",
       "6160    These David's Signature Beyond Gourmet \"Bacon\"...  \n",
       "7773    These David's Signature Beyond Gourmet \"Pomegr...  \n",
       "10715   The Green Mountain Hot Cocoa is a good choice ...  \n",
       "15318   We have several relatives with dietary restric...  \n",
       "15792   Green Mountain \"Nantucket Blend\" K-Cups make a...  \n",
       "15819   Green Mountain \"Nantucket Blend\" K-Cups make a...  \n",
       "17732   \"Erythritol\" has become our sugar substitute o...  \n",
       "18508   These \"Kit Kat Assorted Miniatures\" and the <a...  \n",
       "18764   Celsius Calorie Burner Orange is every bit (or...  \n",
       "19349   These David's Signature Beyond Gourmet \"Green ...  \n",
       "20662   Tully's Coffee \"Kona Blend (Extra Bold)\" K-Cup...  \n",
       "23629   Jell-O \"Sugar-Free Instant Pudding\" is a great...  \n",
       "24946   A sample of these Van Houtte \"French Vanilla K...  \n",
       "27448   This Green Mountain \"Revv\" makes a good tastin...  \n",
       "29884   This Mio \"Green Thunder\" does remind me of Mou...  \n",
       "30363   These thinkThin \"Brownie Crunch Bars\" are very...  \n",
       "34074   \"Navratan Korma, Mixed Vegetable & Cottage Che...  \n",
       "34440   Caribou Coffee \"Caribou Blend\" K-Cups make a v...  \n",
       "34934   While \"Wild Ride Beef Jerky Cowboy Strips\" do ...  \n",
       "37760   We love Chupa Chups lollipops and were thrille...  \n",
       "37795   \"Pav Bhaji, Mashed Vegetable Curry\" was one of...  \n",
       "38356   The Buffalo Bills \"Honey Pepper Beef Jerky\" is...  \n",
       "38924   I have tried Jack Links \"Hot Heads\" and the \"S...  \n",
       "41874   These David's Signature Beyond Gourmet \"Black ...  \n",
       "43578   The Blue Diamond Jalapeno Smokehouse Almonds a...  \n",
       "...                                                   ...  \n",
       "528421  This Starbucks French Roast K-Cup is indeed a ...  \n",
       "532614  This great tasting pasta is a diabetic's Godse...  \n",
       "533630  Jell-O \"Sugar-Free Instant Pudding\" is a great...  \n",
       "534640  This great tasting pasta is a diabetic's Godse...  \n",
       "535044  This is seriously long lasting gum with a grea...  \n",
       "539876  \"Swiss Miss Diet Hot Cocoa\" is a very good Hot...  \n",
       "540290  \"Swiss Miss No Sugar Added Hot Cocoa\" is a ver...  \n",
       "540742  \"Swiss Miss No Sugar Added Hot Cocoa\" is a ver...  \n",
       "541878  These Altoids Ginger mints have great strong g...  \n",
       "542542  \"Splenda\" is one of my favorite things ever! B...  \n",
       "543513  This Vitamin Squeeze Energy Drink is good tast...  \n",
       "544503  Splenda Minis are a very convenient way to car...  \n",
       "545514  Splenda is the sweetener I prefer to use, bein...  \n",
       "546983  I have tried several types of Murray sugar fre...  \n",
       "546984  Murray \"Sugar Free Fudge Dipped Vanilla Wafer ...  \n",
       "547090  This DaVinci sugar free Kahlua syrup is a grea...  \n",
       "548114  This \"Scalp & Hair Oil\" was a huge disappointm...  \n",
       "548419  This Wrigley's Green Apple gum has, to me, a d...  \n",
       "552395  I found these Hot Cinnamon Toothpicks to be ve...  \n",
       "553589  These Nature Valley \"Crunch Granola Bars, Pean...  \n",
       "555536  We bought the Celestial Seasonings K-Cup Tea S...  \n",
       "558464  I already use Splenda as a sweetener, so was p...  \n",
       "560471  This review is for the Slim Jim .28oz (Pack of...  \n",
       "560666  The Kahlua Flavor is one of my favorite DaVinc...  \n",
       "561988  This Starbucks French Roast K-Cup is indeed a ...  \n",
       "562279  The Blue Diamond Jalapeno Smokehouse Almonds a...  \n",
       "563973  Kirkland Jelly Beans are a great value and all...  \n",
       "564414  Wrigley's  Elixir Gum is good tasting, but onl...  \n",
       "567686  These Grove Square Hot Cocoa flavors are by fa...  \n",
       "567796  These Grove Square Hot Cocoa flavors are by fa...  \n",
       "\n",
       "[448 rows x 10 columns]"
      ]
     },
     "execution_count": 9,
     "metadata": {},
     "output_type": "execute_result"
    }
   ],
   "source": [
    "reviews.loc[reviews['UserId'] == 'A3OXHLG6DIBRW8']"
   ]
  },
  {
   "cell_type": "markdown",
   "metadata": {},
   "source": [
    "<b>Note</b>: Before dropping is it worth noting that certain users have significantly more reviews written than others. However in the grand scheme, since there are 568454 reviews, most likely the 448 reviews of the most frequent reviewer won't bias our model. If it does, i will limit the number of reviews taken for each user."
   ]
  },
  {
   "cell_type": "markdown",
   "metadata": {},
   "source": [
    "<h3>About the Data</h3>\n",
    "<br>\n",
    "Notice that there are 10 columns in this dataset for a full summary of a review including helpfulness and rating. However, since we are trying to train a summazier, those additional fields are unneccessary. We only need the Summary and Text columns for this project."
   ]
  },
  {
   "cell_type": "code",
   "execution_count": 35,
   "metadata": {
    "scrolled": true
   },
   "outputs": [],
   "source": [
    "reviews = reviews.drop(['Id', 'ProductId', 'UserId', 'ProfileName', 'HelpfulnessNumerator', 'HelpfulnessDenominator', 'Score', 'Time'], 1)"
   ]
  },
  {
   "cell_type": "markdown",
   "metadata": {},
   "source": [
    "<h3>Further cleaning</h3>\n",
    "<br>\n",
    "We need to drop rows in which either summary or text is empty as we cannot use them for training or testing."
   ]
  },
  {
   "cell_type": "code",
   "execution_count": 61,
   "metadata": {},
   "outputs": [
    {
     "data": {
      "text/plain": [
       "Summary    27\n",
       "Text        0\n",
       "dtype: int64"
      ]
     },
     "execution_count": 61,
     "metadata": {},
     "output_type": "execute_result"
    }
   ],
   "source": [
    "reviews.isna().sum()"
   ]
  },
  {
   "cell_type": "code",
   "execution_count": 63,
   "metadata": {},
   "outputs": [],
   "source": [
    "reviews.dropna(inplace=True)"
   ]
  },
  {
   "cell_type": "code",
   "execution_count": 64,
   "metadata": {},
   "outputs": [
    {
     "data": {
      "text/plain": [
       "Summary    0\n",
       "Text       0\n",
       "dtype: int64"
      ]
     },
     "execution_count": 64,
     "metadata": {},
     "output_type": "execute_result"
    }
   ],
   "source": [
    "reviews.isna().sum()"
   ]
  },
  {
   "cell_type": "markdown",
   "metadata": {},
   "source": [
    "<h3>Cleaning the text data</h3>\n",
    "<br>\n",
    "\n",
    "We want to remove text that would not help our model learn to summarize. This would include stopwords, contractions and web symbols like links and html elements"
   ]
  },
  {
   "cell_type": "code",
   "execution_count": 65,
   "metadata": {},
   "outputs": [],
   "source": [
    "# https://stackoverflow.com/questions/19790188/expanding-english-language-contractions-in-python\n",
    "# function to remove contractions from reviews\n",
    "\n",
    "def decontracted(phrase):\n",
    "    # specific\n",
    "    phrase = re.sub(r\"won\\'t\", \"will not\", phrase)\n",
    "    phrase = re.sub(r\"can\\'t\", \"can not\", phrase)\n",
    "\n",
    "    # general\n",
    "    phrase = re.sub(r\"n\\'t\", \" not\", phrase)\n",
    "    phrase = re.sub(r\"\\'re\", \" are\", phrase)\n",
    "    phrase = re.sub(r\"\\'s\", \" is\", phrase)\n",
    "    phrase = re.sub(r\"\\'d\", \" would\", phrase)\n",
    "    phrase = re.sub(r\"\\'ll\", \" will\", phrase)\n",
    "    phrase = re.sub(r\"\\'t\", \" not\", phrase)\n",
    "    phrase = re.sub(r\"\\'ve\", \" have\", phrase)\n",
    "    phrase = re.sub(r\"\\'m\", \" am\", phrase)\n",
    "    return phrase\n",
    "\n",
    "\n",
    "def remove_web_symbols(text):\n",
    "    text = re.sub(r'https?:\\/\\/.*[\\r\\n]*', '', text, flags=re.MULTILINE)\n",
    "    text = re.sub(r'\\<a href', ' ', text)\n",
    "    text = re.sub(r'&amp;', '', text)\n",
    "    text = re.sub(r'[_\"\\-;%()|+&=*%.,!?:#$@\\[\\]/]', ' ', text)\n",
    "    text = re.sub(r'<br />', ' ', text)\n",
    "    text = re.sub(r'\\'', ' ', text)\n",
    "    return text\n"
   ]
  },
  {
   "cell_type": "code",
   "execution_count": 66,
   "metadata": {},
   "outputs": [],
   "source": [
    "from string import digits\n",
    "\n",
    "def clean_review(review):\n",
    "    # remove contractions\n",
    "    # remove urls, digits\n",
    "    # remove stopwords\n",
    "    \n",
    "    review = decontracted(review)\n",
    "    review = remove_web_symbols(review)\n",
    "    \n",
    "    remove_digits = str.maketrans('', '', digits)\n",
    "    review = review.translate(remove_digits)\n",
    "    \n",
    "    # NLTK stopwords\n",
    "    stops = set(stopwords.words(\"english\"))\n",
    "    \n",
    "    review = review.split()\n",
    "    review = [w for w in review if not w in stops]\n",
    "    review = \" \".join(review)\n",
    "        \n",
    "    return review.lower()"
   ]
  },
  {
   "cell_type": "code",
   "execution_count": 68,
   "metadata": {},
   "outputs": [],
   "source": [
    "test = clean_review(\"HOW'd you do on this I'm great\")"
   ]
  },
  {
   "cell_type": "code",
   "execution_count": 69,
   "metadata": {
    "scrolled": true
   },
   "outputs": [
    {
     "data": {
      "text/plain": [
       "'how would i great'"
      ]
     },
     "execution_count": 69,
     "metadata": {},
     "output_type": "execute_result"
    }
   ],
   "source": [
    "test"
   ]
  },
  {
   "cell_type": "code",
   "execution_count": 73,
   "metadata": {},
   "outputs": [],
   "source": [
    "clean_reviews = list()\n",
    "clean_summaries = list()\n",
    "\n",
    "for summary in reviews.Summary:\n",
    "    if summary == '':\n",
    "        continue\n",
    "    clean_summaries.append(clean_review(summary))\n",
    "    \n",
    "for review in reviews.Text:\n",
    "    if review == '':\n",
    "        continue\n",
    "    clean_reviews.append(clean_review(review))"
   ]
  },
  {
   "cell_type": "code",
   "execution_count": 74,
   "metadata": {
    "scrolled": true
   },
   "outputs": [
    {
     "name": "stdout",
     "output_type": "stream",
     "text": [
      "568427\n",
      "568427\n"
     ]
    }
   ],
   "source": [
    "print(len(clean_summaries))\n",
    "print(len(clean_reviews))"
   ]
  },
  {
   "cell_type": "code",
   "execution_count": 78,
   "metadata": {},
   "outputs": [
    {
     "name": "stdout",
     "output_type": "stream",
     "text": [
      "good quality dog food\n",
      "\n",
      "\n",
      "not advertised\n",
      "\n",
      "\n",
      "delight says\n",
      "\n",
      "\n",
      "cough medicine\n",
      "\n",
      "\n",
      "great taffy\n",
      "\n",
      "\n",
      "i bought several vitality canned dog food products found good quality the product looks like stew processed meat smells better my labrador finicky appreciates product better\n",
      "\n",
      "\n",
      "product arrived labeled jumbo salted peanuts peanuts actually small sized unsalted not sure error vendor intended represent product jumbo\n",
      "\n",
      "\n",
      "this confection around centuries it light pillowy citrus gelatin nuts case filberts and cut tiny squares liberally coated powdered sugar and tiny mouthful heaven not chewy flavorful i highly recommend yummy treat if familiar story c s lewis the lion the witch the wardrobe treat seduces edmund selling brother sisters witch\n",
      "\n",
      "\n",
      "if looking secret ingredient robitussin i believe i found i got addition root beer extract i ordered good made cherry soda the flavor medicinal\n",
      "\n",
      "\n",
      "great taffy great price there wide assortment yummy taffy delivery quick if taffy lover deal\n",
      "\n",
      "\n"
     ]
    }
   ],
   "source": [
    "for i in range(5):\n",
    "    print(clean_summaries[i])\n",
    "    print(\"\\n\")\n",
    "    \n",
    "for i in range(5):\n",
    "    print(clean_reviews[i])\n",
    "    print(\"\\n\")"
   ]
  },
  {
   "cell_type": "markdown",
   "metadata": {},
   "source": [
    "<h3>Saving cleaned data</h3>\n",
    "<br>\n",
    "<p>Since the dataset is quite large, we will save the cleaned text data into a pickle file for reusability.</p>"
   ]
  },
  {
   "cell_type": "code",
   "execution_count": 89,
   "metadata": {},
   "outputs": [],
   "source": [
    "review_data = list()\n",
    "\n",
    "for i, review in enumerate(clean_reviews):\n",
    "    review_data.append({'review': review, 'summary': clean_summaries[i]})\n",
    "    \n",
    "dump(review_data, open('review_dataset.pkl', 'wb'))"
   ]
  },
  {
   "cell_type": "code",
   "execution_count": 90,
   "metadata": {},
   "outputs": [],
   "source": [
    "batch_size = 64\n",
    "epochs = 100\n",
    "latent_dim = 256\n",
    "num_samples = 10000"
   ]
  },
  {
   "cell_type": "code",
   "execution_count": 91,
   "metadata": {},
   "outputs": [],
   "source": [
    "review_dataset = load(open('review_dataset.pkl', 'rb'))"
   ]
  },
  {
   "cell_type": "code",
   "execution_count": 92,
   "metadata": {},
   "outputs": [
    {
     "name": "stdout",
     "output_type": "stream",
     "text": [
      "568427\n"
     ]
    }
   ],
   "source": [
    "print(len(review_dataset))"
   ]
  },
  {
   "cell_type": "code",
   "execution_count": 97,
   "metadata": {},
   "outputs": [
    {
     "data": {
      "text/plain": [
       "{'review': 'i bought several vitality canned dog food products found good quality the product looks like stew processed meat smells better my labrador finicky appreciates product better',\n",
       " 'summary': 'good quality dog food'}"
      ]
     },
     "execution_count": 97,
     "metadata": {},
     "output_type": "execute_result"
    }
   ],
   "source": [
    "review_dataset[0]"
   ]
  },
  {
   "cell_type": "markdown",
   "metadata": {},
   "source": [
    "<h3>Now we need to prepare the data to feed to our model</h3>"
   ]
  },
  {
   "cell_type": "code",
   "execution_count": 143,
   "metadata": {
    "collapsed": true
   },
   "outputs": [
    {
     "ename": "KeyboardInterrupt",
     "evalue": "",
     "output_type": "error",
     "traceback": [
      "\u001b[0;31m---------------------------------------------------------------------------\u001b[0m",
      "\u001b[0;31mKeyboardInterrupt\u001b[0m                         Traceback (most recent call last)",
      "\u001b[0;32m<ipython-input-143-c14fa38f2821>\u001b[0m in \u001b[0;36m<module>\u001b[0;34m()\u001b[0m\n\u001b[1;32m     23\u001b[0m \u001b[0;34m\u001b[0m\u001b[0m\n\u001b[1;32m     24\u001b[0m     \u001b[0;32mfor\u001b[0m \u001b[0mchar\u001b[0m \u001b[0;32min\u001b[0m \u001b[0minput_text\u001b[0m\u001b[0;34m:\u001b[0m\u001b[0;34m\u001b[0m\u001b[0;34m\u001b[0m\u001b[0m\n\u001b[0;32m---> 25\u001b[0;31m         \u001b[0;32mif\u001b[0m \u001b[0mchar\u001b[0m \u001b[0;32mnot\u001b[0m \u001b[0;32min\u001b[0m \u001b[0minput_characters\u001b[0m\u001b[0;34m:\u001b[0m\u001b[0;34m\u001b[0m\u001b[0;34m\u001b[0m\u001b[0m\n\u001b[0m\u001b[1;32m     26\u001b[0m             \u001b[0minput_characters\u001b[0m\u001b[0;34m.\u001b[0m\u001b[0madd\u001b[0m\u001b[0;34m(\u001b[0m\u001b[0mchar\u001b[0m\u001b[0;34m)\u001b[0m\u001b[0;34m\u001b[0m\u001b[0;34m\u001b[0m\u001b[0m\n\u001b[1;32m     27\u001b[0m \u001b[0;34m\u001b[0m\u001b[0m\n",
      "\u001b[0;31mKeyboardInterrupt\u001b[0m: "
     ]
    }
   ],
   "source": [
    "# add symbols to start and end of the ouput \n",
    "# REASONING: We need the start token so that our decoder has something to start with.\n",
    "# This is important since the decoder is going to generate characters based its outputs (and hidden states) so letting the system know \n",
    "# when it is starting is important. The end token is also important to help the model decode aribitrary length. If we don't have the eos, we don't know when the model has finished decoding and\n",
    "# we will keep processing random tokens that the system has not accounted for in its summary.\n",
    "\n",
    "# TEST: does it help to add the sos and eos to the input sentences\n",
    "\n",
    "input_texts = []\n",
    "target_texts = []\n",
    "input_characters = set()\n",
    "target_characters = set()\n",
    "\n",
    "i = 0\n",
    "\n",
    "for review_summary in review_dataset:\n",
    "    \n",
    "    if i == 5000:\n",
    "        break\n",
    "    else:\n",
    "        i += 1\n",
    "    \n",
    "    input_text = review_summary['review']\n",
    "    target_text = review_summary['summary']\n",
    "    \n",
    "    # add sos and eos tokens\n",
    "    target_text = '\\t' + target_text + '\\n'\n",
    "    \n",
    "    input_texts.append(input_text)\n",
    "    target_texts.append(target_text)\n",
    "    \n",
    "    for char in input_text:\n",
    "        if char not in input_characters:\n",
    "            input_characters.add(char)\n",
    "    \n",
    "    for char in target_text:\n",
    "        if char not in target_characters:\n",
    "            target_characters.add(char)\n",
    "\n"
   ]
  },
  {
   "cell_type": "code",
   "execution_count": 148,
   "metadata": {},
   "outputs": [
    {
     "data": {
      "text/plain": [
       "41"
      ]
     },
     "execution_count": 148,
     "metadata": {},
     "output_type": "execute_result"
    }
   ],
   "source": [
    "len(target_characters)"
   ]
  },
  {
   "cell_type": "code",
   "execution_count": 149,
   "metadata": {},
   "outputs": [
    {
     "data": {
      "text/plain": [
       "60"
      ]
     },
     "execution_count": 149,
     "metadata": {},
     "output_type": "execute_result"
    }
   ],
   "source": [
    "len(input_characters)"
   ]
  },
  {
   "cell_type": "code",
   "execution_count": 150,
   "metadata": {
    "scrolled": true
   },
   "outputs": [
    {
     "data": {
      "text/plain": [
       "176870"
      ]
     },
     "execution_count": 150,
     "metadata": {},
     "output_type": "execute_result"
    }
   ],
   "source": [
    "# THIS WAS AFTER 30 MIN OF RUNNING THE CODE ABOVE\n",
    "\n",
    "len(input_texts)\n",
    "len(target_texts)"
   ]
  },
  {
   "cell_type": "code",
   "execution_count": 151,
   "metadata": {},
   "outputs": [
    {
     "name": "stdout",
     "output_type": "stream",
     "text": [
      "Number of encoder tokens:  60\n",
      "Number of decoder tokens:  41\n",
      "Max encoder sequence  12482\n",
      "Max decoder sequence  140\n"
     ]
    }
   ],
   "source": [
    "input_characters = sorted(list(input_characters))\n",
    "target_characters = sorted(list(target_characters))\n",
    "\n",
    "num_encoder_tokens = len(input_characters)\n",
    "num_decoder_tokens = len(target_characters)\n",
    "\n",
    "max_encoder_seq_length = max([len(txt) for txt in input_texts])\n",
    "max_decoder_seq_length = max([len(txt) for txt in target_texts])\n",
    "\n",
    "print(\"Number of encoder tokens: \", num_encoder_tokens)\n",
    "print(\"Number of decoder tokens: \", num_decoder_tokens)\n",
    "print(\"Max encoder sequence \", max_encoder_seq_length)\n",
    "print(\"Max decoder sequence \", max_decoder_seq_length)\n"
   ]
  },
  {
   "cell_type": "code",
   "execution_count": 152,
   "metadata": {},
   "outputs": [],
   "source": [
    "# create mappings between token and index for training\n",
    "\n",
    "input_token_index = dict([(char, i) for i, char in enumerate(input_characters)])\n",
    "\n",
    "target_token_index = dict([(char, i) for i, char in enumerate(target_characters)])"
   ]
  },
  {
   "cell_type": "code",
   "execution_count": 153,
   "metadata": {
    "scrolled": true
   },
   "outputs": [
    {
     "data": {
      "text/plain": [
       "{' ': 0,\n",
       " '<': 1,\n",
       " '>': 2,\n",
       " '\\\\': 3,\n",
       " '^': 4,\n",
       " '`': 5,\n",
       " 'a': 6,\n",
       " 'b': 7,\n",
       " 'c': 8,\n",
       " 'd': 9,\n",
       " 'e': 10,\n",
       " 'f': 11,\n",
       " 'g': 12,\n",
       " 'h': 13,\n",
       " 'i': 14,\n",
       " 'j': 15,\n",
       " 'k': 16,\n",
       " 'l': 17,\n",
       " 'm': 18,\n",
       " 'n': 19,\n",
       " 'o': 20,\n",
       " 'p': 21,\n",
       " 'q': 22,\n",
       " 'r': 23,\n",
       " 's': 24,\n",
       " 't': 25,\n",
       " 'u': 26,\n",
       " 'v': 27,\n",
       " 'w': 28,\n",
       " 'x': 29,\n",
       " 'y': 30,\n",
       " 'z': 31,\n",
       " '{': 32,\n",
       " '}': 33,\n",
       " '~': 34,\n",
       " '\\x8c': 35,\n",
       " '¢': 36,\n",
       " '£': 37,\n",
       " '¦': 38,\n",
       " '§': 39,\n",
       " '«': 40,\n",
       " '\\xad': 41,\n",
       " '®': 42,\n",
       " '°': 43,\n",
       " 'µ': 44,\n",
       " '·': 45,\n",
       " 'º': 46,\n",
       " '¼': 47,\n",
       " '½': 48,\n",
       " '¾': 49,\n",
       " 'â': 50,\n",
       " 'å': 51,\n",
       " 'æ': 52,\n",
       " 'ç': 53,\n",
       " 'ê': 54,\n",
       " 'ë': 55,\n",
       " 'î': 56,\n",
       " 'ï': 57,\n",
       " 'ô': 58,\n",
       " 'û': 59}"
      ]
     },
     "execution_count": 153,
     "metadata": {},
     "output_type": "execute_result"
    }
   ],
   "source": [
    "input_token_index"
   ]
  },
  {
   "cell_type": "code",
   "execution_count": 154,
   "metadata": {
    "scrolled": true
   },
   "outputs": [
    {
     "data": {
      "text/plain": [
       "{' ': 0,\n",
       " '<': 1,\n",
       " '>': 2,\n",
       " '\\\\': 3,\n",
       " '^': 4,\n",
       " '`': 5,\n",
       " 'a': 6,\n",
       " 'b': 7,\n",
       " 'c': 8,\n",
       " 'd': 9,\n",
       " 'e': 10,\n",
       " 'f': 11,\n",
       " 'g': 12,\n",
       " 'h': 13,\n",
       " 'i': 14,\n",
       " 'j': 15,\n",
       " 'k': 16,\n",
       " 'l': 17,\n",
       " 'm': 18,\n",
       " 'n': 19,\n",
       " 'o': 20,\n",
       " 'p': 21,\n",
       " 'q': 22,\n",
       " 'r': 23,\n",
       " 's': 24,\n",
       " 't': 25,\n",
       " 'u': 26,\n",
       " 'v': 27,\n",
       " 'w': 28,\n",
       " 'x': 29,\n",
       " 'y': 30,\n",
       " 'z': 31,\n",
       " '{': 32,\n",
       " '}': 33,\n",
       " '~': 34,\n",
       " '«': 35,\n",
       " '®': 36,\n",
       " '»': 37,\n",
       " '½': 38,\n",
       " 'û': 39,\n",
       " 'ý': 40}"
      ]
     },
     "execution_count": 154,
     "metadata": {},
     "output_type": "execute_result"
    }
   ],
   "source": [
    "target_token_index"
   ]
  },
  {
   "cell_type": "code",
   "execution_count": 155,
   "metadata": {},
   "outputs": [],
   "source": [
    "# set up encoder and decoder vectors\n",
    "# 3 dimensions: 1. training example  2. character index   3. token value\n",
    "\n",
    "data_len = len(input_texts)\n",
    "\n",
    "encoder_input_data = np.zeros((data_len, max_encoder_seq_length, num_encoder_tokens), dtype='float32')\n",
    "\n",
    "decoder_input_data = np.zeros((data_len, max_decoder_seq_length, num_decoder_tokens), dtype='float32')\n",
    "\n",
    "decoder_target_data = np.zeros((data_len, max_decoder_seq_length, num_decoder_tokens), dtype='float32')\n"
   ]
  },
  {
   "cell_type": "code",
   "execution_count": 156,
   "metadata": {},
   "outputs": [
    {
     "data": {
      "text/plain": [
       "(176870, 12482, 60)"
      ]
     },
     "execution_count": 156,
     "metadata": {},
     "output_type": "execute_result"
    }
   ],
   "source": [
    "encoder_input_data.shape"
   ]
  },
  {
   "cell_type": "code",
   "execution_count": 157,
   "metadata": {},
   "outputs": [
    {
     "data": {
      "text/plain": [
       "(176870, 140, 41)"
      ]
     },
     "execution_count": 157,
     "metadata": {},
     "output_type": "execute_result"
    }
   ],
   "source": [
    "decoder_input_data.shape"
   ]
  },
  {
   "cell_type": "code",
   "execution_count": 158,
   "metadata": {
    "scrolled": true
   },
   "outputs": [
    {
     "data": {
      "text/plain": [
       "(176870, 140, 41)"
      ]
     },
     "execution_count": 158,
     "metadata": {},
     "output_type": "execute_result"
    }
   ],
   "source": [
    "decoder_target_data.shape"
   ]
  },
  {
   "cell_type": "markdown",
   "metadata": {},
   "source": [
    "<h3>Encoding the character level data for the encoder and decoder</h3>"
   ]
  },
  {
   "cell_type": "code",
   "execution_count": 159,
   "metadata": {},
   "outputs": [],
   "source": [
    "for i, (input_text, target_text) in enumerate(zip(input_texts, target_texts)):\n",
    "    for t, char in enumerate(input_text):\n",
    "        encoder_input_data[i, t, input_token_index[char]] = 1.\n",
    "    \n",
    "    for t, char in enumerate(target_text):\n",
    "        decoder_input_data[i, t, target_token_index[char]] = 1.\n",
    "    \n",
    "        if t > 0:\n",
    "            # for the decoder output, it needs to always be 1 step ahead of the input\n",
    "            # as such we just use the current index at the timestep before\n",
    "            \n",
    "            decoder_target_data[i, t-1, target_token_index[char]] = 1."
   ]
  },
  {
   "cell_type": "code",
   "execution_count": 176,
   "metadata": {},
   "outputs": [
    {
     "data": {
      "text/plain": [
       "(176870, 12482, 60)"
      ]
     },
     "execution_count": 176,
     "metadata": {},
     "output_type": "execute_result"
    }
   ],
   "source": [
    "encoder_input_data.shape"
   ]
  },
  {
   "cell_type": "code",
   "execution_count": 161,
   "metadata": {},
   "outputs": [
    {
     "data": {
      "text/plain": [
       "(176870, 140, 41)"
      ]
     },
     "execution_count": 161,
     "metadata": {},
     "output_type": "execute_result"
    }
   ],
   "source": [
    "decoder_input_data.shape"
   ]
  },
  {
   "cell_type": "code",
   "execution_count": 162,
   "metadata": {
    "scrolled": true
   },
   "outputs": [
    {
     "data": {
      "text/plain": [
       "(176870, 140, 41)"
      ]
     },
     "execution_count": 162,
     "metadata": {},
     "output_type": "execute_result"
    }
   ],
   "source": [
    "decoder_target_data.shape"
   ]
  },
  {
   "cell_type": "markdown",
   "metadata": {},
   "source": [
    "<b>Note</b>: Good, the shapes should still be identical to before we one hot encoded the encoder and the 2 decoder vectors"
   ]
  },
  {
   "cell_type": "markdown",
   "metadata": {},
   "source": [
    "<h2>Model</h2>"
   ]
  },
  {
   "cell_type": "code",
   "execution_count": 163,
   "metadata": {},
   "outputs": [
    {
     "name": "stderr",
     "output_type": "stream",
     "text": [
      "Using TensorFlow backend.\n"
     ]
    }
   ],
   "source": [
    "from keras.models import Model\n",
    "from keras.layers import Input, Dense, LSTM"
   ]
  },
  {
   "cell_type": "markdown",
   "metadata": {},
   "source": [
    "<h3>Description of the model</h3>\n",
    "<br>\n",
    "We will be using an lstm to get encode the inputs. We will be discarding its outputs as we only want the final hidden states. Then we pass the encoded input states into another LSTM. This one will only keep the decoder ouputs. Finally, the decoded outputs will be passed to a dense layer in which we will use a softmax to predict the next characters. "
   ]
  },
  {
   "cell_type": "markdown",
   "metadata": {},
   "source": [
    "<b>Note to self</b>: The reason we use shape=(None, num_encoder_tokens) instead of a hardcoded value (in place of the None) is because this acts as a placeholder. As such, the model will learn figure out how many rows of inputs it is receiving which makes it more flexible. The num_encoder_tokens is because we are passing in a character at a time and there are num_encoder_token of them to be passed)"
   ]
  },
  {
   "cell_type": "code",
   "execution_count": 177,
   "metadata": {},
   "outputs": [],
   "source": [
    "encoder_inputs = Input(shape=(None, num_encoder_tokens))\n",
    "encoder = LSTM(latent_dim, return_state=True)\n",
    "encoder_outputs, state_h, state_c = encoder(encoder_inputs)\n",
    "\n",
    "# We will only be passing on the final states of the input LSTM\n",
    "encoder_states = [state_h, state_c]\n",
    "\n",
    "decoder_inputs = Input(shape=(None, num_decoder_tokens))\n",
    "decoder = LSTM(latent_dim, return_sequences=True, return_state=True)\n",
    "decoder_outputs,_,_ = decoder(decoder_inputs, initial_state=encoder_states)\n",
    "\n",
    "decoder_dense = Dense(num_decoder_tokens, activation='softmax')\n",
    "decoder_outputs = decoder_dense(decoder_outputs)\n",
    "\n",
    "model = Model([encoder_inputs, decoder_inputs], decoder_outputs)\n",
    "\n",
    "model.compile(loss='categorical_crossentropy', optimizer='adam', metrics=['accuracy'])\n"
   ]
  },
  {
   "cell_type": "code",
   "execution_count": 178,
   "metadata": {
    "scrolled": false
   },
   "outputs": [
    {
     "name": "stdout",
     "output_type": "stream",
     "text": [
      "__________________________________________________________________________________________________\n",
      "Layer (type)                    Output Shape         Param #     Connected to                     \n",
      "==================================================================================================\n",
      "input_5 (InputLayer)            (None, None, 60)     0                                            \n",
      "__________________________________________________________________________________________________\n",
      "input_6 (InputLayer)            (None, None, 41)     0                                            \n",
      "__________________________________________________________________________________________________\n",
      "lstm_5 (LSTM)                   [(None, 256), (None, 324608      input_5[0][0]                    \n",
      "__________________________________________________________________________________________________\n",
      "lstm_6 (LSTM)                   [(None, None, 256),  305152      input_6[0][0]                    \n",
      "                                                                 lstm_5[0][1]                     \n",
      "                                                                 lstm_5[0][2]                     \n",
      "__________________________________________________________________________________________________\n",
      "dense_3 (Dense)                 (None, None, 41)     10537       lstm_6[0][0]                     \n",
      "==================================================================================================\n",
      "Total params: 640,297\n",
      "Trainable params: 640,297\n",
      "Non-trainable params: 0\n",
      "__________________________________________________________________________________________________\n"
     ]
    }
   ],
   "source": [
    "model.summary()"
   ]
  },
  {
   "cell_type": "markdown",
   "metadata": {},
   "source": [
    "<h3>Training the model</h3>"
   ]
  },
  {
   "cell_type": "code",
   "execution_count": null,
   "metadata": {
    "scrolled": true
   },
   "outputs": [
    {
     "name": "stdout",
     "output_type": "stream",
     "text": [
      "WARNING:tensorflow:From /Users/Stephen-Mac/anaconda3/lib/python3.6/site-packages/tensorflow/python/ops/math_ops.py:3066: to_int32 (from tensorflow.python.ops.math_ops) is deprecated and will be removed in a future version.\n",
      "Instructions for updating:\n",
      "Use tf.cast instead.\n",
      "WARNING:tensorflow:From /Users/Stephen-Mac/anaconda3/lib/python3.6/site-packages/tensorflow/python/ops/math_grad.py:102: div (from tensorflow.python.ops.math_ops) is deprecated and will be removed in a future version.\n",
      "Instructions for updating:\n",
      "Deprecated in favor of operator or tf.math.divide.\n",
      "Train on 141496 samples, validate on 35374 samples\n",
      "Epoch 1/100\n"
     ]
    }
   ],
   "source": [
    "model.fit([encoder_input_data, decoder_input_data], decoder_target_data, batch_size=batch_size, epochs=epochs, validation_split=0.2)"
   ]
  },
  {
   "cell_type": "code",
   "execution_count": null,
   "metadata": {},
   "outputs": [],
   "source": [
    "model.save('text_summarization_model.h5')"
   ]
  },
  {
   "cell_type": "markdown",
   "metadata": {},
   "source": [
    "<h3>Inference</h3>\n",
    "<br>\n",
    "<p>This is to test the outputs of our summarizer model. The inference is as follows:<br>\n",
    "\n",
    "<ol>\n",
    "    <li> Encode inputs and retrieve initial decoder state</li>\n",
    "<li> Run one step of the decoder with the initial state and set the target to sos token. Output will be the predicted next character</li>\n",
    "    <li> Rinse and repeat with the current target token and current states</li>\n",
    "</ol>    \n",
    "\n",
    "<br>\n",
    "\n",
    "<b>Note</b>: The decoder input state only needs to be set once with the encoder state values and then we rely on the decoders own hidden states for the remainder of the character prediction\n",
    "    \n",
    "</p>"
   ]
  },
  {
   "cell_type": "code",
   "execution_count": 1,
   "metadata": {
    "collapsed": true
   },
   "outputs": [
    {
     "ename": "NameError",
     "evalue": "name 'Model' is not defined",
     "output_type": "error",
     "traceback": [
      "\u001b[0;31m---------------------------------------------------------------------------\u001b[0m",
      "\u001b[0;31mNameError\u001b[0m                                 Traceback (most recent call last)",
      "\u001b[0;32m<ipython-input-1-86c91331e195>\u001b[0m in \u001b[0;36m<module>\u001b[0;34m()\u001b[0m\n\u001b[1;32m      1\u001b[0m \u001b[0;31m# can instantitate model as long as there is an input and hidden states\u001b[0m\u001b[0;34m\u001b[0m\u001b[0;34m\u001b[0m\u001b[0;34m\u001b[0m\u001b[0m\n\u001b[0;32m----> 2\u001b[0;31m \u001b[0mencoder_model\u001b[0m \u001b[0;34m=\u001b[0m \u001b[0mModel\u001b[0m\u001b[0;34m(\u001b[0m\u001b[0mencoder_inputs\u001b[0m\u001b[0;34m,\u001b[0m \u001b[0mencoder_states\u001b[0m\u001b[0;34m)\u001b[0m\u001b[0;34m\u001b[0m\u001b[0;34m\u001b[0m\u001b[0m\n\u001b[0m\u001b[1;32m      3\u001b[0m \u001b[0;34m\u001b[0m\u001b[0m\n\u001b[1;32m      4\u001b[0m \u001b[0mdecoder_state_input_h\u001b[0m \u001b[0;34m=\u001b[0m \u001b[0mInput\u001b[0m\u001b[0;34m(\u001b[0m\u001b[0mshape\u001b[0m\u001b[0;34m=\u001b[0m\u001b[0;34m(\u001b[0m\u001b[0mlatent_dim\u001b[0m\u001b[0;34m,\u001b[0m\u001b[0;34m)\u001b[0m\u001b[0;34m)\u001b[0m\u001b[0;34m\u001b[0m\u001b[0;34m\u001b[0m\u001b[0m\n\u001b[1;32m      5\u001b[0m \u001b[0mdecoder_state_input_c\u001b[0m \u001b[0;34m=\u001b[0m \u001b[0mInput\u001b[0m\u001b[0;34m(\u001b[0m\u001b[0mhsape\u001b[0m\u001b[0;34m=\u001b[0m\u001b[0;34m(\u001b[0m\u001b[0mlatent_dim\u001b[0m\u001b[0;34m,\u001b[0m\u001b[0;34m)\u001b[0m\u001b[0;34m)\u001b[0m\u001b[0;34m\u001b[0m\u001b[0;34m\u001b[0m\u001b[0m\n",
      "\u001b[0;31mNameError\u001b[0m: name 'Model' is not defined"
     ]
    }
   ],
   "source": [
    "# can instantitate model as long as there is an input and hidden states\n",
    "encoder_model = Model(encoder_inputs, encoder_states)\n",
    "\n",
    "decoder_state_input_h = Input(shape=(latent_dim,))\n",
    "decoder_state_input_c = Input(hsape=(latent_dim,))\n",
    "decoder_state_inputs = [decoder_state_input_h, decoder_state_input_c]\n",
    "decoder_outputs, state_h, state_c = decoder(decoder_inputs, initial_state=decoder_state_inputs)\n",
    "\n",
    "decoder_states = [state_h, state_c]\n",
    "decoder_outputs = decoder_dense(decoder_outputs)\n",
    "\n",
    "decoder_model = Model(\n",
    "    [decoder_inputs] + decoder_state_inputs,\n",
    "    [decoder_outputs] + decoder_states\n",
    ")"
   ]
  },
  {
   "cell_type": "code",
   "execution_count": null,
   "metadata": {},
   "outputs": [],
   "source": [
    "reverse_input_char_index = dict(\n",
    "    (i, char) for char, i in input_token_index.items()\n",
    ")\n",
    "\n",
    "reverse_target_char_index = dict(\n",
    "    (i, char) for char, i in target_token_index.items()\n",
    ")"
   ]
  },
  {
   "cell_type": "code",
   "execution_count": null,
   "metadata": {},
   "outputs": [],
   "source": [
    "def decode_sequence(input_seq):\n",
    "    input_states = encoder_model.predict(input_seq)\n",
    "    \n",
    "    target_seq = np.zeros((1, 1, num_decoder_tokens))\n",
    "    \n",
    "    # start the sequence with the start of sentence token\n",
    "    target_seq[0,0, target_token_index['\\t']] = 1\n",
    "    \n",
    "    end_of_sentence = False\n",
    "    \n",
    "    decoded_sentence = \"\"\n",
    "    \n",
    "    while not end_of_sentence:\n",
    "        output_tokens, h, c = decoder_model.predict([target_seq] + input_states)\n",
    "        \n",
    "        # since we are using a softmax for our activation, the largest value is the most probable character\n",
    "        predicted_token_index = np.argmax(output_tokens[0, -1, :])\n",
    "        predicted_char = reverse_target_char_index[predicted_token_index]\n",
    "        decoded_sentence += predicted_char\n",
    "        \n",
    "        # end condition will be if the predicted output char was the eos ('\\n') or if the length is greater than the max ouput seq length\n",
    "        if(sampled_char == '\\n' or len(decoded_sentence) > max_decoder_seq_length):\n",
    "            stop_condition = True\n",
    "            \n",
    "        # reset the target_seq to be the value of the predicted char\n",
    "        target_seq = np.zeros((1,1, num_decoder_tokens))\n",
    "        target_seq[0, 0, predicted_token_index] = 1\n",
    "        \n",
    "        state_values = [h,c]\n",
    "    \n",
    "    return decoded_sentence\n",
    "    "
   ]
  },
  {
   "cell_type": "markdown",
   "metadata": {},
   "source": [
    "<h2>Testing Model Predictions</h2>\n"
   ]
  },
  {
   "cell_type": "code",
   "execution_count": null,
   "metadata": {},
   "outputs": [],
   "source": [
    "for seq_index in range(50):\n",
    "    input_seq = encoder_input_data[seq_index: seq_index+1]\n",
    "    decoded_sentence = decode_sentence(input_seq)\n",
    "    print(\"- - -\")\n",
    "    print(\"Input Sentence: \", input_texts[input_seq])\n",
    "    print(\"Predicted Summary:\", decoded_sentence)\n",
    "    print(\"Actual Summary:\", output_texts[input_seq])"
   ]
  },
  {
   "cell_type": "markdown",
   "metadata": {},
   "source": [
    "<h1>Conclusion</h1>\n",
    "<br>\n",
    "In this notebook I practiced seq2seq modelling through a text summarization task at a character level. The next steps for improvements involve adding an embedding layer to learn character embeddings. From my knowledge of character embeddings, this should help the model generalize with \n",
    "\n",
    "<br>\n",
    "\n",
    "The reason I chose to use a character level model is beacause it was easier to train on such a large dataset. However, I am curious as to how this model would fare at the word level. This is an experiment that i wish to conduct."
   ]
  }
 ],
 "metadata": {
  "kernelspec": {
   "display_name": "Python 3",
   "language": "python",
   "name": "python3"
  },
  "language_info": {
   "codemirror_mode": {
    "name": "ipython",
    "version": 3
   },
   "file_extension": ".py",
   "mimetype": "text/x-python",
   "name": "python",
   "nbconvert_exporter": "python",
   "pygments_lexer": "ipython3",
   "version": "3.6.8"
  }
 },
 "nbformat": 4,
 "nbformat_minor": 2
}
